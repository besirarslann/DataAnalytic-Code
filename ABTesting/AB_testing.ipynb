{
 "cells": [
  {
   "cell_type": "code",
   "execution_count": 39,
   "id": "7ef6bdfe-d917-4ade-b28b-2255d5274c0c",
   "metadata": {},
   "outputs": [],
   "source": [
    "import pandas as pd\n",
    "import seaborn as sns\n",
    "from statsmodels.stats import proportion as pr\n",
    "import matplotlib.pyplot as plt\n",
    "import statsmodels.stats.api as sms\n",
    "import warnings\n",
    "from IPython.core.interactiveshell import InteractiveShell\n",
    "InteractiveShell.ast_node_interactivity = \"all\"\n",
    "from numpy.random import default_rng\n",
    "\n",
    "\n",
    "warnings.filterwarnings (\"ignore\")\n",
    "pd.set_option ('display.float_format', lambda x: '%.6f' % x)\n",
    "pd.set_option ('display.width', None)\n",
    "pd.set_option ('display.max_columns', None)"
   ]
  },
  {
   "cell_type": "code",
   "execution_count": 40,
   "id": "73e5aae9-ab38-46e1-b463-c32c08e109d5",
   "metadata": {},
   "outputs": [],
   "source": [
    "# Loading Dataset Control and Test\n",
    "df_control = pd.read_excel(\"ab_testingHM1.xlsx\", sheet_name= \"Control Group\")\n",
    "df_test = pd.read_excel(\"ab_testingHM1.xlsx\", sheet_name=\"Test Group\")"
   ]
  },
  {
   "cell_type": "code",
   "execution_count": 41,
   "id": "49510bdc-d88c-4920-b490-f4d25c2d0f23",
   "metadata": {},
   "outputs": [
    {
     "data": {
      "text/html": [
       "<div>\n",
       "<style scoped>\n",
       "    .dataframe tbody tr th:only-of-type {\n",
       "        vertical-align: middle;\n",
       "    }\n",
       "\n",
       "    .dataframe tbody tr th {\n",
       "        vertical-align: top;\n",
       "    }\n",
       "\n",
       "    .dataframe thead th {\n",
       "        text-align: right;\n",
       "    }\n",
       "</style>\n",
       "<table border=\"1\" class=\"dataframe\">\n",
       "  <thead>\n",
       "    <tr style=\"text-align: right;\">\n",
       "      <th></th>\n",
       "      <th>Impression</th>\n",
       "      <th>Click</th>\n",
       "      <th>Purchase</th>\n",
       "      <th>Earning</th>\n",
       "    </tr>\n",
       "  </thead>\n",
       "  <tbody>\n",
       "    <tr>\n",
       "      <th>0</th>\n",
       "      <td>92432</td>\n",
       "      <td>6699</td>\n",
       "      <td>1397</td>\n",
       "      <td>14328</td>\n",
       "    </tr>\n",
       "    <tr>\n",
       "      <th>1</th>\n",
       "      <td>109816</td>\n",
       "      <td>3721</td>\n",
       "      <td>662</td>\n",
       "      <td>10807</td>\n",
       "    </tr>\n",
       "    <tr>\n",
       "      <th>2</th>\n",
       "      <td>92620</td>\n",
       "      <td>4585</td>\n",
       "      <td>962</td>\n",
       "      <td>11148</td>\n",
       "    </tr>\n",
       "    <tr>\n",
       "      <th>3</th>\n",
       "      <td>123104</td>\n",
       "      <td>5402</td>\n",
       "      <td>1023</td>\n",
       "      <td>10515</td>\n",
       "    </tr>\n",
       "    <tr>\n",
       "      <th>4</th>\n",
       "      <td>121473</td>\n",
       "      <td>6587</td>\n",
       "      <td>926</td>\n",
       "      <td>9573</td>\n",
       "    </tr>\n",
       "  </tbody>\n",
       "</table>\n",
       "</div>"
      ],
      "text/plain": [
       "   Impression  Click  Purchase  Earning\n",
       "0       92432   6699      1397    14328\n",
       "1      109816   3721       662    10807\n",
       "2       92620   4585       962    11148\n",
       "3      123104   5402      1023    10515\n",
       "4      121473   6587       926     9573"
      ]
     },
     "execution_count": 41,
     "metadata": {},
     "output_type": "execute_result"
    },
    {
     "data": {
      "text/html": [
       "<div>\n",
       "<style scoped>\n",
       "    .dataframe tbody tr th:only-of-type {\n",
       "        vertical-align: middle;\n",
       "    }\n",
       "\n",
       "    .dataframe tbody tr th {\n",
       "        vertical-align: top;\n",
       "    }\n",
       "\n",
       "    .dataframe thead th {\n",
       "        text-align: right;\n",
       "    }\n",
       "</style>\n",
       "<table border=\"1\" class=\"dataframe\">\n",
       "  <thead>\n",
       "    <tr style=\"text-align: right;\">\n",
       "      <th></th>\n",
       "      <th>Impression</th>\n",
       "      <th>Click</th>\n",
       "      <th>Purchase</th>\n",
       "      <th>Earning</th>\n",
       "    </tr>\n",
       "  </thead>\n",
       "  <tbody>\n",
       "    <tr>\n",
       "      <th>0</th>\n",
       "      <td>138120</td>\n",
       "      <td>3153</td>\n",
       "      <td>1439</td>\n",
       "      <td>11834</td>\n",
       "    </tr>\n",
       "    <tr>\n",
       "      <th>1</th>\n",
       "      <td>154992</td>\n",
       "      <td>3562</td>\n",
       "      <td>1710</td>\n",
       "      <td>17867</td>\n",
       "    </tr>\n",
       "    <tr>\n",
       "      <th>2</th>\n",
       "      <td>123978</td>\n",
       "      <td>2996</td>\n",
       "      <td>867</td>\n",
       "      <td>15409</td>\n",
       "    </tr>\n",
       "    <tr>\n",
       "      <th>3</th>\n",
       "      <td>133912</td>\n",
       "      <td>4557</td>\n",
       "      <td>879</td>\n",
       "      <td>13914</td>\n",
       "    </tr>\n",
       "    <tr>\n",
       "      <th>4</th>\n",
       "      <td>166845</td>\n",
       "      <td>5097</td>\n",
       "      <td>1538</td>\n",
       "      <td>16970</td>\n",
       "    </tr>\n",
       "  </tbody>\n",
       "</table>\n",
       "</div>"
      ],
      "text/plain": [
       "   Impression  Click  Purchase  Earning\n",
       "0      138120   3153      1439    11834\n",
       "1      154992   3562      1710    17867\n",
       "2      123978   2996       867    15409\n",
       "3      133912   4557       879    13914\n",
       "4      166845   5097      1538    16970"
      ]
     },
     "execution_count": 41,
     "metadata": {},
     "output_type": "execute_result"
    }
   ],
   "source": [
    "df_control.head()\n",
    "df_test.head()"
   ]
  },
  {
   "cell_type": "code",
   "execution_count": 72,
   "id": "8cdb4d90-0432-4172-a385-e8a7a25a234d",
   "metadata": {},
   "outputs": [
    {
     "data": {
      "text/plain": [
       "Int64Index([23, 24, 2, 7, 5], dtype='int64')"
      ]
     },
     "execution_count": 72,
     "metadata": {},
     "output_type": "execute_result"
    },
    {
     "data": {
      "text/plain": [
       "Int64Index([31, 22, 3, 18, 20], dtype='int64')"
      ]
     },
     "execution_count": 72,
     "metadata": {},
     "output_type": "execute_result"
    }
   ],
   "source": [
    "df_control.sample(5, random_state=10).index\n",
    "df_test.sample(5, random_state=5).index"
   ]
  },
  {
   "cell_type": "code",
   "execution_count": 73,
   "id": "15a07854-6f41-4f62-a0bc-2da840dbaa9e",
   "metadata": {},
   "outputs": [],
   "source": [
    "df_control = df_control.drop(df_control.sample(5, random_state=10).index,axis=0).reset_index(drop=True)\n",
    "df_test = df_test.drop(df_test.sample(5, random_state=5).index,axis=0).reset_index(drop=True)"
   ]
  },
  {
   "cell_type": "code",
   "execution_count": 74,
   "id": "78d05eb0-6a1b-456e-9288-ea94cf84bf7d",
   "metadata": {},
   "outputs": [
    {
     "data": {
      "image/png": "[encoded data removed]",
      "text/plain": [
       "<Figure size 640x480 with 1 Axes>"
      ]
     },
     "metadata": {},
     "output_type": "display_data"
    },
    {
     "data": {
      "image/png": "[encoded data removed]",
      "text/plain": [
       "<Figure size 640x480 with 1 Axes>"
      ]
     },
     "metadata": {},
     "output_type": "display_data"
    }
   ],
   "source": [
    "# Normal Distrubution Graph\n",
    "sns.distplot(df_control[\"Purchase\"], hist=False).set(title=\"ND of Max Bidding Purchase\")\n",
    "plt.show();\n",
    "\n",
    "sns.distplot(df_test[\"Purchase\"], hist=False).set(title=\"ND of Average Bidding Purchase\")\n",
    "plt.show();"
   ]
  },
  {
   "cell_type": "code",
   "execution_count": 75,
   "id": "19fc5084-3e9f-4d16-836e-3436d216e026",
   "metadata": {},
   "outputs": [],
   "source": [
    "# Create New features\n",
    "df_control[\"Earning_Per_Click\"] = df_control[\"Earning\"] / df_control[\"Click\"]\n",
    "df_test[\"Earning_Per_Click\"] = df_test[\"Earning\"] / df_test[\"Click\"]"
   ]
  },
  {
   "cell_type": "code",
   "execution_count": 76,
   "id": "e8d29480-c723-4b0a-b239-e73867c5f4ec",
   "metadata": {},
   "outputs": [
    {
     "data": {
      "text/html": [
       "<div>\n",
       "<style scoped>\n",
       "    .dataframe tbody tr th:only-of-type {\n",
       "        vertical-align: middle;\n",
       "    }\n",
       "\n",
       "    .dataframe tbody tr th {\n",
       "        vertical-align: top;\n",
       "    }\n",
       "\n",
       "    .dataframe thead th {\n",
       "        text-align: right;\n",
       "    }\n",
       "</style>\n",
       "<table border=\"1\" class=\"dataframe\">\n",
       "  <thead>\n",
       "    <tr style=\"text-align: right;\">\n",
       "      <th></th>\n",
       "      <th>Impression</th>\n",
       "      <th>Click</th>\n",
       "      <th>Purchase</th>\n",
       "      <th>Earning</th>\n",
       "      <th>Earning_Per_Click</th>\n",
       "    </tr>\n",
       "  </thead>\n",
       "  <tbody>\n",
       "    <tr>\n",
       "      <th>0</th>\n",
       "      <td>92432</td>\n",
       "      <td>6699</td>\n",
       "      <td>1397</td>\n",
       "      <td>14328</td>\n",
       "      <td>2.138827</td>\n",
       "    </tr>\n",
       "    <tr>\n",
       "      <th>1</th>\n",
       "      <td>109816</td>\n",
       "      <td>3721</td>\n",
       "      <td>662</td>\n",
       "      <td>10807</td>\n",
       "      <td>2.904327</td>\n",
       "    </tr>\n",
       "    <tr>\n",
       "      <th>2</th>\n",
       "      <td>121473</td>\n",
       "      <td>6587</td>\n",
       "      <td>926</td>\n",
       "      <td>9573</td>\n",
       "      <td>1.453317</td>\n",
       "    </tr>\n",
       "    <tr>\n",
       "      <th>3</th>\n",
       "      <td>87107</td>\n",
       "      <td>4908</td>\n",
       "      <td>1092</td>\n",
       "      <td>12908</td>\n",
       "      <td>2.629992</td>\n",
       "    </tr>\n",
       "    <tr>\n",
       "      <th>4</th>\n",
       "      <td>119447</td>\n",
       "      <td>4794</td>\n",
       "      <td>1569</td>\n",
       "      <td>12183</td>\n",
       "      <td>2.541302</td>\n",
       "    </tr>\n",
       "  </tbody>\n",
       "</table>\n",
       "</div>"
      ],
      "text/plain": [
       "   Impression  Click  Purchase  Earning  Earning_Per_Click\n",
       "0       92432   6699      1397    14328           2.138827\n",
       "1      109816   3721       662    10807           2.904327\n",
       "2      121473   6587       926     9573           1.453317\n",
       "3       87107   4908      1092    12908           2.629992\n",
       "4      119447   4794      1569    12183           2.541302"
      ]
     },
     "execution_count": 76,
     "metadata": {},
     "output_type": "execute_result"
    },
    {
     "data": {
      "text/html": [
       "<div>\n",
       "<style scoped>\n",
       "    .dataframe tbody tr th:only-of-type {\n",
       "        vertical-align: middle;\n",
       "    }\n",
       "\n",
       "    .dataframe tbody tr th {\n",
       "        vertical-align: top;\n",
       "    }\n",
       "\n",
       "    .dataframe thead th {\n",
       "        text-align: right;\n",
       "    }\n",
       "</style>\n",
       "<table border=\"1\" class=\"dataframe\">\n",
       "  <thead>\n",
       "    <tr style=\"text-align: right;\">\n",
       "      <th></th>\n",
       "      <th>Impression</th>\n",
       "      <th>Click</th>\n",
       "      <th>Purchase</th>\n",
       "      <th>Earning</th>\n",
       "      <th>Earning_Per_Click</th>\n",
       "    </tr>\n",
       "  </thead>\n",
       "  <tbody>\n",
       "    <tr>\n",
       "      <th>0</th>\n",
       "      <td>138120</td>\n",
       "      <td>3153</td>\n",
       "      <td>1439</td>\n",
       "      <td>11834</td>\n",
       "      <td>3.753251</td>\n",
       "    </tr>\n",
       "    <tr>\n",
       "      <th>1</th>\n",
       "      <td>154992</td>\n",
       "      <td>3562</td>\n",
       "      <td>1710</td>\n",
       "      <td>17867</td>\n",
       "      <td>5.016002</td>\n",
       "    </tr>\n",
       "    <tr>\n",
       "      <th>2</th>\n",
       "      <td>123978</td>\n",
       "      <td>2996</td>\n",
       "      <td>867</td>\n",
       "      <td>15409</td>\n",
       "      <td>5.143191</td>\n",
       "    </tr>\n",
       "    <tr>\n",
       "      <th>3</th>\n",
       "      <td>133311</td>\n",
       "      <td>4130</td>\n",
       "      <td>1595</td>\n",
       "      <td>13158</td>\n",
       "      <td>3.185956</td>\n",
       "    </tr>\n",
       "    <tr>\n",
       "      <th>4</th>\n",
       "      <td>122033</td>\n",
       "      <td>3213</td>\n",
       "      <td>1009</td>\n",
       "      <td>15616</td>\n",
       "      <td>4.860255</td>\n",
       "    </tr>\n",
       "  </tbody>\n",
       "</table>\n",
       "</div>"
      ],
      "text/plain": [
       "   Impression  Click  Purchase  Earning  Earning_Per_Click\n",
       "0      138120   3153      1439    11834           3.753251\n",
       "1      154992   3562      1710    17867           5.016002\n",
       "2      123978   2996       867    15409           5.143191\n",
       "3      133311   4130      1595    13158           3.185956\n",
       "4      122033   3213      1009    15616           4.860255"
      ]
     },
     "execution_count": 76,
     "metadata": {},
     "output_type": "execute_result"
    }
   ],
   "source": [
    "df_control.head()\n",
    "df_test.head()"
   ]
  },
  {
   "cell_type": "markdown",
   "id": "db315592-46b7-4509-aa48-386b7ad425e4",
   "metadata": {},
   "source": [
    "# Confidence Interval Evaluation"
   ]
  },
  {
   "cell_type": "code",
   "execution_count": 77,
   "id": "ca57702c-f295-4561-98b7-569c98924d9d",
   "metadata": {},
   "outputs": [],
   "source": [
    "# Two group comperes to Purchase and Earning\n",
    "df_purchase = pd.DataFrame({\"Control_Purchase\": df_control[\"Purchase\"].describe(),\n",
    "                                \"Test_Purchase\": df_test[\"Purchase\"].describe()})\n",
    "\n",
    "df_earning = pd.DataFrame({\"Control_Earning\": df_control[\"Earning\"].describe(),\n",
    "                           \"Test_Earning\": df_test[\"Earning\"].describe()})"
   ]
  },
  {
   "cell_type": "code",
   "execution_count": 78,
   "id": "b5142b26-c142-4039-a92c-52f4cccae500",
   "metadata": {},
   "outputs": [
    {
     "data": {
      "text/html": [
       "<div>\n",
       "<style scoped>\n",
       "    .dataframe tbody tr th:only-of-type {\n",
       "        vertical-align: middle;\n",
       "    }\n",
       "\n",
       "    .dataframe tbody tr th {\n",
       "        vertical-align: top;\n",
       "    }\n",
       "\n",
       "    .dataframe thead th {\n",
       "        text-align: right;\n",
       "    }\n",
       "</style>\n",
       "<table border=\"1\" class=\"dataframe\">\n",
       "  <thead>\n",
       "    <tr style=\"text-align: right;\">\n",
       "      <th></th>\n",
       "      <th>Control_Purchase</th>\n",
       "      <th>Test_Purchase</th>\n",
       "    </tr>\n",
       "  </thead>\n",
       "  <tbody>\n",
       "    <tr>\n",
       "      <th>count</th>\n",
       "      <td>30.000000</td>\n",
       "      <td>30.000000</td>\n",
       "    </tr>\n",
       "    <tr>\n",
       "      <th>mean</th>\n",
       "      <td>1141.966667</td>\n",
       "      <td>1199.966667</td>\n",
       "    </tr>\n",
       "    <tr>\n",
       "      <th>std</th>\n",
       "      <td>294.515088</td>\n",
       "      <td>339.284997</td>\n",
       "    </tr>\n",
       "    <tr>\n",
       "      <th>min</th>\n",
       "      <td>561.000000</td>\n",
       "      <td>640.000000</td>\n",
       "    </tr>\n",
       "    <tr>\n",
       "      <th>25%</th>\n",
       "      <td>986.000000</td>\n",
       "      <td>895.250000</td>\n",
       "    </tr>\n",
       "    <tr>\n",
       "      <th>50%</th>\n",
       "      <td>1140.500000</td>\n",
       "      <td>1130.000000</td>\n",
       "    </tr>\n",
       "    <tr>\n",
       "      <th>75%</th>\n",
       "      <td>1316.250000</td>\n",
       "      <td>1432.250000</td>\n",
       "    </tr>\n",
       "    <tr>\n",
       "      <th>max</th>\n",
       "      <td>1684.000000</td>\n",
       "      <td>1825.000000</td>\n",
       "    </tr>\n",
       "  </tbody>\n",
       "</table>\n",
       "</div>"
      ],
      "text/plain": [
       "       Control_Purchase  Test_Purchase\n",
       "count         30.000000      30.000000\n",
       "mean        1141.966667    1199.966667\n",
       "std          294.515088     339.284997\n",
       "min          561.000000     640.000000\n",
       "25%          986.000000     895.250000\n",
       "50%         1140.500000    1130.000000\n",
       "75%         1316.250000    1432.250000\n",
       "max         1684.000000    1825.000000"
      ]
     },
     "execution_count": 78,
     "metadata": {},
     "output_type": "execute_result"
    }
   ],
   "source": [
    "df_purchase"
   ]
  },
  {
   "cell_type": "code",
   "execution_count": 80,
   "id": "d6743202-7a95-44d1-b6a3-6abc5760006c",
   "metadata": {},
   "outputs": [
    {
     "data": {
      "text/plain": [
       "(1031.992925615873, 1251.9404077174604)"
      ]
     },
     "execution_count": 80,
     "metadata": {},
     "output_type": "execute_result"
    },
    {
     "data": {
      "text/plain": [
       "(1073.2755666735497, 1326.6577666597836)"
      ]
     },
     "execution_count": 80,
     "metadata": {},
     "output_type": "execute_result"
    }
   ],
   "source": [
    "# Statistic according to Purchase\n",
    "# Calculate Confidence Interval\n",
    "sms.DescrStatsW(df_control[\"Purchase\"]).tconfint_mean()\n",
    "# Mean Control Purchase 1141 is my %95 confidence interval point \n",
    "# This value is within the confidence interval\n",
    "\n",
    "sms.DescrStatsW(df_test[\"Purchase\"]).tconfint_mean()\n",
    "# Mean Test Purchase 1199 is my %95 confidence interval point\n",
    "\n",
    "# as a result, two values are within confidence interval so 1199 > 1141"
   ]
  },
  {
   "cell_type": "code",
   "execution_count": 81,
   "id": "0d180837-ccb7-4d83-a1b7-35217da03283",
   "metadata": {},
   "outputs": [
    {
     "data": {
      "text/html": [
       "<div>\n",
       "<style scoped>\n",
       "    .dataframe tbody tr th:only-of-type {\n",
       "        vertical-align: middle;\n",
       "    }\n",
       "\n",
       "    .dataframe tbody tr th {\n",
       "        vertical-align: top;\n",
       "    }\n",
       "\n",
       "    .dataframe thead th {\n",
       "        text-align: right;\n",
       "    }\n",
       "</style>\n",
       "<table border=\"1\" class=\"dataframe\">\n",
       "  <thead>\n",
       "    <tr style=\"text-align: right;\">\n",
       "      <th></th>\n",
       "      <th>Control_Earning</th>\n",
       "      <th>Test_Earning</th>\n",
       "    </tr>\n",
       "  </thead>\n",
       "  <tbody>\n",
       "    <tr>\n",
       "      <th>count</th>\n",
       "      <td>30.000000</td>\n",
       "      <td>30.000000</td>\n",
       "    </tr>\n",
       "    <tr>\n",
       "      <th>mean</th>\n",
       "      <td>11986.966667</td>\n",
       "      <td>15320.800000</td>\n",
       "    </tr>\n",
       "    <tr>\n",
       "      <th>std</th>\n",
       "      <td>1992.681549</td>\n",
       "      <td>1869.940372</td>\n",
       "    </tr>\n",
       "    <tr>\n",
       "      <th>min</th>\n",
       "      <td>7775.000000</td>\n",
       "      <td>11834.000000</td>\n",
       "    </tr>\n",
       "    <tr>\n",
       "      <th>25%</th>\n",
       "      <td>10865.750000</td>\n",
       "      <td>13787.500000</td>\n",
       "    </tr>\n",
       "    <tr>\n",
       "      <th>50%</th>\n",
       "      <td>12344.000000</td>\n",
       "      <td>15588.500000</td>\n",
       "    </tr>\n",
       "    <tr>\n",
       "      <th>75%</th>\n",
       "      <td>13243.250000</td>\n",
       "      <td>16805.500000</td>\n",
       "    </tr>\n",
       "    <tr>\n",
       "      <th>max</th>\n",
       "      <td>15481.000000</td>\n",
       "      <td>19343.000000</td>\n",
       "    </tr>\n",
       "  </tbody>\n",
       "</table>\n",
       "</div>"
      ],
      "text/plain": [
       "       Control_Earning  Test_Earning\n",
       "count        30.000000     30.000000\n",
       "mean      11986.966667  15320.800000\n",
       "std        1992.681549   1869.940372\n",
       "min        7775.000000  11834.000000\n",
       "25%       10865.750000  13787.500000\n",
       "50%       12344.000000  15588.500000\n",
       "75%       13243.250000  16805.500000\n",
       "max       15481.000000  19343.000000"
      ]
     },
     "execution_count": 81,
     "metadata": {},
     "output_type": "execute_result"
    }
   ],
   "source": [
    "df_earning"
   ]
  },
  {
   "cell_type": "code",
   "execution_count": 83,
   "id": "9ef815f5-7ed1-4780-b48e-5e88cc0e07ce",
   "metadata": {},
   "outputs": [
    {
     "data": {
      "text/plain": [
       "(11242.887147501819, 12731.046185831516)"
      ]
     },
     "execution_count": 83,
     "metadata": {},
     "output_type": "execute_result"
    },
    {
     "data": {
      "text/plain": [
       "(14622.55278989641, 16019.047210103588)"
      ]
     },
     "execution_count": 83,
     "metadata": {},
     "output_type": "execute_result"
    }
   ],
   "source": [
    "# Statistic according to Earning\n",
    "sms.DescrStatsW(df_control[\"Earning\"]).tconfint_mean()\n",
    "# Mean Control Earning 11986 is my %95 confidence interval point\n",
    "\n",
    "sms.DescrStatsW(df_test[\"Earning\"]).tconfint_mean()\n",
    "#  Mean Control Earning 15320 is my %95 confidence interval point\n",
    "\n",
    "# as a result, two values are within confidence interval so 15320 > 11986"
   ]
  },
  {
   "cell_type": "markdown",
   "id": "ce9e1c4c-fec8-40e1-93a1-4abb4a4cbf11",
   "metadata": {},
   "source": [
    "# Checking Normal Distrubution \n",
    " - Does the data fit a normal distribution? SHAPIRO TEST\n",
    " - Number of Observation is grater than 30\n",
    " - Levene Test"
   ]
  },
  {
   "cell_type": "markdown",
   "id": "65c3bb0e-7de3-465e-936d-3e5a69e835f7",
   "metadata": {},
   "source": [
    "# Hypothesis Test\n",
    " - H0: There is no statistically significant difference between the theoretical normal distribution and the sample normal distribution.\n",
    " - H1: There is statistically significant difference between the theoretical normal distribution and the sample normal distribution."
   ]
  },
  {
   "cell_type": "code",
   "execution_count": 84,
   "id": "67baef9f-f35f-4edb-8bbc-db00a2980627",
   "metadata": {},
   "outputs": [],
   "source": [
    "from scipy.stats import shapiro # for hypothesis"
   ]
  },
  {
   "cell_type": "code",
   "execution_count": 85,
   "id": "18a1e566-7952-42f3-9ef5-3430f4edf19e",
   "metadata": {},
   "outputs": [],
   "source": [
    "p_value_th = 0.05"
   ]
  },
  {
   "cell_type": "code",
   "execution_count": 86,
   "id": "0d89a83b-e560-4d7a-85a4-13ca3f94f7c1",
   "metadata": {},
   "outputs": [
    {
     "data": {
      "text/plain": [
       "Index(['Impression', 'Click', 'Purchase', 'Earning', 'Earning_Per_Click'], dtype='object')"
      ]
     },
     "execution_count": 86,
     "metadata": {},
     "output_type": "execute_result"
    }
   ],
   "source": [
    "df_control.columns"
   ]
  },
  {
   "cell_type": "code",
   "execution_count": 87,
   "id": "c18bd344-1a79-438f-876d-080af90119ab",
   "metadata": {},
   "outputs": [
    {
     "data": {
      "text/plain": [
       "0.34262388944625854"
      ]
     },
     "execution_count": 87,
     "metadata": {},
     "output_type": "execute_result"
    }
   ],
   "source": [
    "ttest, p_value = shapiro(df_control[\"Impression\"])\n",
    "p_value"
   ]
  },
  {
   "cell_type": "code",
   "execution_count": 88,
   "id": "3e4a4cae-454a-4a28-8396-022d50df91f7",
   "metadata": {},
   "outputs": [
    {
     "name": "stdout",
     "output_type": "stream",
     "text": [
      "Normal\n"
     ]
    }
   ],
   "source": [
    "if p_value >= p_value_th:\n",
    "    print(\"Normal\")\n",
    "else:\n",
    "    print(\"Abnormal\")"
   ]
  },
  {
   "cell_type": "markdown",
   "id": "e10a05f1-5860-48e9-9a53-39bfc3824a11",
   "metadata": {},
   "source": [
    "# Automation distrubution"
   ]
  },
  {
   "cell_type": "code",
   "execution_count": 89,
   "id": "972521aa-e3c9-4d7a-bd1c-ba857177e18e",
   "metadata": {},
   "outputs": [],
   "source": [
    "def normality_func(dataframe):\n",
    "    from scipy.stats import shapiro\n",
    "    p_value_threshold = 0.05\n",
    "    p_value_list = []\n",
    "    distribution_list = []\n",
    "    normal_list = []\n",
    "    abnormal_list = []\n",
    "    for col in dataframe.columns:\n",
    "        ttest, p_value = shapiro (dataframe[col])\n",
    "        p_value_list.append (p_value)\n",
    "        if p_value >= p_value_threshold:\n",
    "            distribution_list.append (\"Normal\")\n",
    "            normal_list.append (col)\n",
    "        else:\n",
    "            distribution_list.append (\"Abnormal\")\n",
    "            abnormal_list.append (col)\n",
    "\n",
    "    new_df = pd.DataFrame (index=dataframe.columns, data={\"P_Value\": p_value_list, \"Distribution\": distribution_list})\n",
    "    return new_df, normal_list, abnormal_list"
   ]
  },
  {
   "cell_type": "code",
   "execution_count": 90,
   "id": "293fafcc-134d-4c17-82aa-1f8ed4ad3c6d",
   "metadata": {},
   "outputs": [],
   "source": [
    "control_normality, control_normal_list, control_abnormal_list = normality_func(df_control)\n",
    "test_normality, test_normal_list, test_abnormal_list = normality_func(df_test)"
   ]
  },
  {
   "cell_type": "code",
   "execution_count": 91,
   "id": "ec41a1f3-07dd-46d1-820b-eea9c1cb88b3",
   "metadata": {},
   "outputs": [
    {
     "data": {
      "text/html": [
       "<div>\n",
       "<style scoped>\n",
       "    .dataframe tbody tr th:only-of-type {\n",
       "        vertical-align: middle;\n",
       "    }\n",
       "\n",
       "    .dataframe tbody tr th {\n",
       "        vertical-align: top;\n",
       "    }\n",
       "\n",
       "    .dataframe thead th {\n",
       "        text-align: right;\n",
       "    }\n",
       "</style>\n",
       "<table border=\"1\" class=\"dataframe\">\n",
       "  <thead>\n",
       "    <tr style=\"text-align: right;\">\n",
       "      <th></th>\n",
       "      <th>P_Value</th>\n",
       "      <th>Distribution</th>\n",
       "    </tr>\n",
       "  </thead>\n",
       "  <tbody>\n",
       "    <tr>\n",
       "      <th>Impression</th>\n",
       "      <td>0.342624</td>\n",
       "      <td>Normal</td>\n",
       "    </tr>\n",
       "    <tr>\n",
       "      <th>Click</th>\n",
       "      <td>0.889053</td>\n",
       "      <td>Normal</td>\n",
       "    </tr>\n",
       "    <tr>\n",
       "      <th>Purchase</th>\n",
       "      <td>0.768883</td>\n",
       "      <td>Normal</td>\n",
       "    </tr>\n",
       "    <tr>\n",
       "      <th>Earning</th>\n",
       "      <td>0.240185</td>\n",
       "      <td>Normal</td>\n",
       "    </tr>\n",
       "    <tr>\n",
       "      <th>Earning_Per_Click</th>\n",
       "      <td>0.022952</td>\n",
       "      <td>Abnormal</td>\n",
       "    </tr>\n",
       "  </tbody>\n",
       "</table>\n",
       "</div>"
      ],
      "text/plain": [
       "                   P_Value Distribution\n",
       "Impression        0.342624       Normal\n",
       "Click             0.889053       Normal\n",
       "Purchase          0.768883       Normal\n",
       "Earning           0.240185       Normal\n",
       "Earning_Per_Click 0.022952     Abnormal"
      ]
     },
     "execution_count": 91,
     "metadata": {},
     "output_type": "execute_result"
    }
   ],
   "source": [
    "control_normality"
   ]
  },
  {
   "cell_type": "code",
   "execution_count": 92,
   "id": "537ad1b5-1405-4879-9ec9-7d63e13ca4cf",
   "metadata": {},
   "outputs": [
    {
     "data": {
      "text/html": [
       "<div>\n",
       "<style scoped>\n",
       "    .dataframe tbody tr th:only-of-type {\n",
       "        vertical-align: middle;\n",
       "    }\n",
       "\n",
       "    .dataframe tbody tr th {\n",
       "        vertical-align: top;\n",
       "    }\n",
       "\n",
       "    .dataframe thead th {\n",
       "        text-align: right;\n",
       "    }\n",
       "</style>\n",
       "<table border=\"1\" class=\"dataframe\">\n",
       "  <thead>\n",
       "    <tr style=\"text-align: right;\">\n",
       "      <th></th>\n",
       "      <th>P_Value</th>\n",
       "      <th>Distribution</th>\n",
       "    </tr>\n",
       "  </thead>\n",
       "  <tbody>\n",
       "    <tr>\n",
       "      <th>Impression</th>\n",
       "      <td>0.435617</td>\n",
       "      <td>Normal</td>\n",
       "    </tr>\n",
       "    <tr>\n",
       "      <th>Click</th>\n",
       "      <td>0.520168</td>\n",
       "      <td>Normal</td>\n",
       "    </tr>\n",
       "    <tr>\n",
       "      <th>Purchase</th>\n",
       "      <td>0.244450</td>\n",
       "      <td>Normal</td>\n",
       "    </tr>\n",
       "    <tr>\n",
       "      <th>Earning</th>\n",
       "      <td>0.731062</td>\n",
       "      <td>Normal</td>\n",
       "    </tr>\n",
       "    <tr>\n",
       "      <th>Earning_Per_Click</th>\n",
       "      <td>0.630384</td>\n",
       "      <td>Normal</td>\n",
       "    </tr>\n",
       "  </tbody>\n",
       "</table>\n",
       "</div>"
      ],
      "text/plain": [
       "                   P_Value Distribution\n",
       "Impression        0.435617       Normal\n",
       "Click             0.520168       Normal\n",
       "Purchase          0.244450       Normal\n",
       "Earning           0.731062       Normal\n",
       "Earning_Per_Click 0.630384       Normal"
      ]
     },
     "execution_count": 92,
     "metadata": {},
     "output_type": "execute_result"
    }
   ],
   "source": [
    "test_normality"
   ]
  },
  {
   "cell_type": "code",
   "execution_count": 93,
   "id": "e264640d-1382-4575-8e73-f91b5128452f",
   "metadata": {},
   "outputs": [
    {
     "name": "stdout",
     "output_type": "stream",
     "text": [
      "ttest: 1.0643298839216644\n",
      "p_value: 0.30651257916781127\n"
     ]
    }
   ],
   "source": [
    "# Cotrol of Variance Homogeneity\n",
    "from scipy.stats import levene \n",
    "ttest_lev, p_value_lev = levene(df_control[\"Purchase\"], df_test[\"Purchase\"])\n",
    "print (\"ttest: {}\\np_value: {}\".format (ttest_lev, p_value_lev))\n",
    "# if p_value is less than 0.05, H0 rejected\n",
    "# Since the p_value is greater than 0.05, we can not reject H0 hypothesis.\n",
    "# The difference between the variance distributions of the two groups is not statistically significant"
   ]
  },
  {
   "cell_type": "markdown",
   "id": "084f1b9b-bb48-487c-93fb-1a6d5f255548",
   "metadata": {},
   "source": [
    "# Automation variance"
   ]
  },
  {
   "cell_type": "code",
   "execution_count": 94,
   "id": "253489d0-5091-49ad-b1c3-2188b140ae35",
   "metadata": {},
   "outputs": [],
   "source": [
    "def variance_homogeneity(dataframe_control, dataframe_test):\n",
    "    from scipy.stats import levene\n",
    "    p_value_threshold = 0.05\n",
    "    p_value_list = []\n",
    "    variance_list = []\n",
    "    column_list = list (zip (sorted (dataframe_control.columns), sorted (dataframe_test.columns)))\n",
    "    features = []\n",
    "    homogeneus_list = []\n",
    "    not_homogeneus_list = []\n",
    "    for col in column_list:\n",
    "        ttest_lev, p_value_lev = levene (dataframe_control[col[0]], dataframe_test[col[1]])\n",
    "        if (col[0] == col[1]) and (p_value_lev >= p_value_threshold):\n",
    "            p_value_list.append (p_value_lev)\n",
    "            variance_list.append (\"No Difference\")\n",
    "            homogeneus_list.append (col[0])\n",
    "            features.append (col[0])\n",
    "        elif (col[0] == col[1]) and (p_value_lev < p_value_threshold):\n",
    "            p_value_list.append (p_value_lev)\n",
    "            variance_list.append (\"Different\")\n",
    "            not_homogeneus_list.append (col[0])\n",
    "            features.append (col[0])\n",
    "\n",
    "    new_df = pd.DataFrame (index=features, data={\"P_Value\": p_value_list, \"Homogeneity_of_Variance\": variance_list})\n",
    "\n",
    "    return new_df, homogeneus_list, not_homogeneus_list"
   ]
  },
  {
   "cell_type": "code",
   "execution_count": 95,
   "id": "938994bc-08cf-4007-b74f-76262f3198d4",
   "metadata": {},
   "outputs": [],
   "source": [
    "variance_df, homogeneus, not_homogeneus = variance_homogeneity(df_control, df_test)"
   ]
  },
  {
   "cell_type": "code",
   "execution_count": 96,
   "id": "31051484-66c6-43c0-a27e-3ee3bbfbd539",
   "metadata": {},
   "outputs": [
    {
     "data": {
      "text/html": [
       "<div>\n",
       "<style scoped>\n",
       "    .dataframe tbody tr th:only-of-type {\n",
       "        vertical-align: middle;\n",
       "    }\n",
       "\n",
       "    .dataframe tbody tr th {\n",
       "        vertical-align: top;\n",
       "    }\n",
       "\n",
       "    .dataframe thead th {\n",
       "        text-align: right;\n",
       "    }\n",
       "</style>\n",
       "<table border=\"1\" class=\"dataframe\">\n",
       "  <thead>\n",
       "    <tr style=\"text-align: right;\">\n",
       "      <th></th>\n",
       "      <th>P_Value</th>\n",
       "      <th>Homogeneity_of_Variance</th>\n",
       "    </tr>\n",
       "  </thead>\n",
       "  <tbody>\n",
       "    <tr>\n",
       "      <th>Click</th>\n",
       "      <td>0.001094</td>\n",
       "      <td>Different</td>\n",
       "    </tr>\n",
       "    <tr>\n",
       "      <th>Earning</th>\n",
       "      <td>0.862015</td>\n",
       "      <td>No Difference</td>\n",
       "    </tr>\n",
       "    <tr>\n",
       "      <th>Earning_Per_Click</th>\n",
       "      <td>0.880538</td>\n",
       "      <td>No Difference</td>\n",
       "    </tr>\n",
       "    <tr>\n",
       "      <th>Impression</th>\n",
       "      <td>0.818469</td>\n",
       "      <td>No Difference</td>\n",
       "    </tr>\n",
       "    <tr>\n",
       "      <th>Purchase</th>\n",
       "      <td>0.306513</td>\n",
       "      <td>No Difference</td>\n",
       "    </tr>\n",
       "  </tbody>\n",
       "</table>\n",
       "</div>"
      ],
      "text/plain": [
       "                   P_Value Homogeneity_of_Variance\n",
       "Click             0.001094               Different\n",
       "Earning           0.862015           No Difference\n",
       "Earning_Per_Click 0.880538           No Difference\n",
       "Impression        0.818469           No Difference\n",
       "Purchase          0.306513           No Difference"
      ]
     },
     "execution_count": 96,
     "metadata": {},
     "output_type": "execute_result"
    }
   ],
   "source": [
    "# Clisk p_value is less than 0.05\n",
    "# contol ve test gruplarındaki click değişkeni arasında istatisksel olarak bir fark vardır.\n",
    "# Yani click değişkenin bu farkı bize contol ve test grubununda bir fark olduğunu bize ispatlamıştır\n",
    "variance_df"
   ]
  },
  {
   "cell_type": "code",
   "execution_count": 97,
   "id": "82d99be9-b21d-4834-8132-f2e6d6515d62",
   "metadata": {},
   "outputs": [],
   "source": [
    "# BAĞIMSIZ İKİ ÖRNEKLEM T TESTİ\n",
    "# Normallik ve Varyans Homojenliği varsayımları sağlanmıştı.\n",
    "# H0: Kontrol grubu purchase değişkeni ortalaması ile test grubu purchase değişkeni ortalaması arasında istatistiksel olarak anlamlı bir farklılık yoktur.\n",
    "# H1: Kontrol grubu purchase değişkeni ortalaması ile test grubu purchase değişkeni ortalaması arasında istatistiksel olarak anlamlı bir farklılık vardır.\n",
    "# p_value < 0.05 ise H0 reddedilir.\n",
    "\n",
    "from scipy.stats import ttest_ind, mannwhitneyu\n",
    "\n",
    "# Normal dağılan parametrik değişkenler için ttest, normal dağılmayan nonparametrik değişkenler için mannwhitneyu testini kullanıyoruz.\n",
    "feat_dict = {}\n",
    "\n",
    "for feat in control_normal_list:\n",
    "    if feat in homogeneus:\n",
    "        ttest_value, p_value = ttest_ind (df_control[feat], df_test[feat], equal_var=True)\n",
    "        feat_dict[feat] = p_value\n",
    "    elif feat not in homogeneus:\n",
    "        ttest_value, p_value = ttest_ind (df_test[feat], df_test[feat], equal_var=False)\n",
    "        feat_dict[feat] = p_value\n",
    "\n",
    "for feat in control_abnormal_list:\n",
    "    ttest_value, p_value = mannwhitneyu (df_test[feat], df_test[feat])\n",
    "    feat_dict[feat] = p_value\n",
    "\n",
    "ttest_df = pd.DataFrame (data=feat_dict.values (), index=feat_dict.keys (), columns=[\"Ttest_P_Value\"])"
   ]
  },
  {
   "cell_type": "code",
   "execution_count": 98,
   "id": "a157fbb3-9ab7-483c-8fb7-7524a4c1dae0",
   "metadata": {},
   "outputs": [
    {
     "data": {
      "text/html": [
       "<div>\n",
       "<style scoped>\n",
       "    .dataframe tbody tr th:only-of-type {\n",
       "        vertical-align: middle;\n",
       "    }\n",
       "\n",
       "    .dataframe tbody tr th {\n",
       "        vertical-align: top;\n",
       "    }\n",
       "\n",
       "    .dataframe thead th {\n",
       "        text-align: right;\n",
       "    }\n",
       "</style>\n",
       "<table border=\"1\" class=\"dataframe\">\n",
       "  <thead>\n",
       "    <tr style=\"text-align: right;\">\n",
       "      <th></th>\n",
       "      <th>Ttest_P_Value</th>\n",
       "    </tr>\n",
       "  </thead>\n",
       "  <tbody>\n",
       "    <tr>\n",
       "      <th>Impression</th>\n",
       "      <td>0.000015</td>\n",
       "    </tr>\n",
       "    <tr>\n",
       "      <th>Click</th>\n",
       "      <td>1.000000</td>\n",
       "    </tr>\n",
       "    <tr>\n",
       "      <th>Purchase</th>\n",
       "      <td>0.482346</td>\n",
       "    </tr>\n",
       "    <tr>\n",
       "      <th>Earning</th>\n",
       "      <td>0.000000</td>\n",
       "    </tr>\n",
       "    <tr>\n",
       "      <th>Earning_Per_Click</th>\n",
       "      <td>1.000000</td>\n",
       "    </tr>\n",
       "  </tbody>\n",
       "</table>\n",
       "</div>"
      ],
      "text/plain": [
       "                   Ttest_P_Value\n",
       "Impression              0.000015\n",
       "Click                   1.000000\n",
       "Purchase                0.482346\n",
       "Earning                 0.000000\n",
       "Earning_Per_Click       1.000000"
      ]
     },
     "execution_count": 98,
     "metadata": {},
     "output_type": "execute_result"
    }
   ],
   "source": [
    "ttest_df"
   ]
  },
  {
   "cell_type": "code",
   "execution_count": 99,
   "id": "54c6ef74-990c-461e-9889-7e0ac7142152",
   "metadata": {},
   "outputs": [],
   "source": [
    "# Maximum ve Average Bidding ortalamalarını karşılaştırmak için dataframe'e ekliyoruz.\n",
    "for col in df_control.columns:\n",
    "    ttest_df.loc[ttest_df.index == col, \"Maximum Bidding Mean\"] = df_control[col].mean()\n",
    "\n",
    "\n",
    "for col in df_test.columns:\n",
    "    ttest_df.loc[ttest_df.index == col, \"Average Bidding Mean\"] = df_test[col].mean ()"
   ]
  },
  {
   "cell_type": "code",
   "execution_count": 100,
   "id": "849106a2-7221-4237-8849-0182f9d84f43",
   "metadata": {},
   "outputs": [
    {
     "data": {
      "text/html": [
       "<div>\n",
       "<style scoped>\n",
       "    .dataframe tbody tr th:only-of-type {\n",
       "        vertical-align: middle;\n",
       "    }\n",
       "\n",
       "    .dataframe tbody tr th {\n",
       "        vertical-align: top;\n",
       "    }\n",
       "\n",
       "    .dataframe thead th {\n",
       "        text-align: right;\n",
       "    }\n",
       "</style>\n",
       "<table border=\"1\" class=\"dataframe\">\n",
       "  <thead>\n",
       "    <tr style=\"text-align: right;\">\n",
       "      <th></th>\n",
       "      <th>Ttest_P_Value</th>\n",
       "      <th>Maximum Bidding Mean</th>\n",
       "      <th>Average Bidding Mean</th>\n",
       "    </tr>\n",
       "  </thead>\n",
       "  <tbody>\n",
       "    <tr>\n",
       "      <th>Impression</th>\n",
       "      <td>0.000015</td>\n",
       "      <td>110045.233333</td>\n",
       "      <td>138441.333333</td>\n",
       "    </tr>\n",
       "    <tr>\n",
       "      <th>Click</th>\n",
       "      <td>1.000000</td>\n",
       "      <td>5712.266667</td>\n",
       "      <td>4018.933333</td>\n",
       "    </tr>\n",
       "    <tr>\n",
       "      <th>Purchase</th>\n",
       "      <td>0.482346</td>\n",
       "      <td>1141.966667</td>\n",
       "      <td>1199.966667</td>\n",
       "    </tr>\n",
       "    <tr>\n",
       "      <th>Earning</th>\n",
       "      <td>0.000000</td>\n",
       "      <td>11986.966667</td>\n",
       "      <td>15320.800000</td>\n",
       "    </tr>\n",
       "    <tr>\n",
       "      <th>Earning_Per_Click</th>\n",
       "      <td>1.000000</td>\n",
       "      <td>2.313508</td>\n",
       "      <td>3.947304</td>\n",
       "    </tr>\n",
       "  </tbody>\n",
       "</table>\n",
       "</div>"
      ],
      "text/plain": [
       "                   Ttest_P_Value  Maximum Bidding Mean  Average Bidding Mean\n",
       "Impression              0.000015         110045.233333         138441.333333\n",
       "Click                   1.000000           5712.266667           4018.933333\n",
       "Purchase                0.482346           1141.966667           1199.966667\n",
       "Earning                 0.000000          11986.966667          15320.800000\n",
       "Earning_Per_Click       1.000000              2.313508              3.947304"
      ]
     },
     "execution_count": 100,
     "metadata": {},
     "output_type": "execute_result"
    }
   ],
   "source": [
    "ttest_df"
   ]
  },
  {
   "cell_type": "markdown",
   "id": "f2a8bc5f-900d-44de-9412-f8a6a746062d",
   "metadata": {},
   "source": [
    "# Hypothesis H0 Status"
   ]
  },
  {
   "cell_type": "code",
   "execution_count": 101,
   "id": "d3fc9a72-89eb-40c4-873b-63813184534a",
   "metadata": {},
   "outputs": [],
   "source": [
    "th = 0.05\n",
    "ttest_df.loc[ttest_df[\"Ttest_P_Value\"] < th, \"H0_Hypothesis\"] = \"Rejected\"\n",
    "ttest_df.loc[ttest_df[\"Ttest_P_Value\"] >= th, \"H0_Hypothesis\"] = \"Not Rejected\""
   ]
  },
  {
   "cell_type": "code",
   "execution_count": 102,
   "id": "27f82a53-d4d6-40ff-8dbd-6987e57c9b69",
   "metadata": {},
   "outputs": [
    {
     "data": {
      "text/html": [
       "<div>\n",
       "<style scoped>\n",
       "    .dataframe tbody tr th:only-of-type {\n",
       "        vertical-align: middle;\n",
       "    }\n",
       "\n",
       "    .dataframe tbody tr th {\n",
       "        vertical-align: top;\n",
       "    }\n",
       "\n",
       "    .dataframe thead th {\n",
       "        text-align: right;\n",
       "    }\n",
       "</style>\n",
       "<table border=\"1\" class=\"dataframe\">\n",
       "  <thead>\n",
       "    <tr style=\"text-align: right;\">\n",
       "      <th></th>\n",
       "      <th>Ttest_P_Value</th>\n",
       "      <th>Maximum Bidding Mean</th>\n",
       "      <th>Average Bidding Mean</th>\n",
       "      <th>H0_Hypothesis</th>\n",
       "    </tr>\n",
       "  </thead>\n",
       "  <tbody>\n",
       "    <tr>\n",
       "      <th>Impression</th>\n",
       "      <td>0.000015</td>\n",
       "      <td>110045.233333</td>\n",
       "      <td>138441.333333</td>\n",
       "      <td>Rejected</td>\n",
       "    </tr>\n",
       "    <tr>\n",
       "      <th>Click</th>\n",
       "      <td>1.000000</td>\n",
       "      <td>5712.266667</td>\n",
       "      <td>4018.933333</td>\n",
       "      <td>Not Rejected</td>\n",
       "    </tr>\n",
       "    <tr>\n",
       "      <th>Purchase</th>\n",
       "      <td>0.482346</td>\n",
       "      <td>1141.966667</td>\n",
       "      <td>1199.966667</td>\n",
       "      <td>Not Rejected</td>\n",
       "    </tr>\n",
       "    <tr>\n",
       "      <th>Earning</th>\n",
       "      <td>0.000000</td>\n",
       "      <td>11986.966667</td>\n",
       "      <td>15320.800000</td>\n",
       "      <td>Rejected</td>\n",
       "    </tr>\n",
       "    <tr>\n",
       "      <th>Earning_Per_Click</th>\n",
       "      <td>1.000000</td>\n",
       "      <td>2.313508</td>\n",
       "      <td>3.947304</td>\n",
       "      <td>Not Rejected</td>\n",
       "    </tr>\n",
       "  </tbody>\n",
       "</table>\n",
       "</div>"
      ],
      "text/plain": [
       "                   Ttest_P_Value  Maximum Bidding Mean  Average Bidding Mean  \\\n",
       "Impression              0.000015         110045.233333         138441.333333   \n",
       "Click                   1.000000           5712.266667           4018.933333   \n",
       "Purchase                0.482346           1141.966667           1199.966667   \n",
       "Earning                 0.000000          11986.966667          15320.800000   \n",
       "Earning_Per_Click       1.000000              2.313508              3.947304   \n",
       "\n",
       "                  H0_Hypothesis  \n",
       "Impression             Rejected  \n",
       "Click              Not Rejected  \n",
       "Purchase           Not Rejected  \n",
       "Earning                Rejected  \n",
       "Earning_Per_Click  Not Rejected  "
      ]
     },
     "execution_count": 102,
     "metadata": {},
     "output_type": "execute_result"
    }
   ],
   "source": [
    "ttest_df"
   ]
  },
  {
   "cell_type": "code",
   "execution_count": 103,
   "id": "87320aac-4a26-49d6-b039-d1a7f50bd3a2",
   "metadata": {},
   "outputs": [
    {
     "data": {
      "text/html": [
       "<div>\n",
       "<style scoped>\n",
       "    .dataframe tbody tr th:only-of-type {\n",
       "        vertical-align: middle;\n",
       "    }\n",
       "\n",
       "    .dataframe tbody tr th {\n",
       "        vertical-align: top;\n",
       "    }\n",
       "\n",
       "    .dataframe thead th {\n",
       "        text-align: right;\n",
       "    }\n",
       "</style>\n",
       "<table border=\"1\" class=\"dataframe\">\n",
       "  <thead>\n",
       "    <tr style=\"text-align: right;\">\n",
       "      <th></th>\n",
       "      <th>Ttest_P_Value</th>\n",
       "      <th>Maximum Bidding Mean</th>\n",
       "      <th>Average Bidding Mean</th>\n",
       "      <th>H0_Hypothesis</th>\n",
       "      <th>Winner</th>\n",
       "    </tr>\n",
       "  </thead>\n",
       "  <tbody>\n",
       "    <tr>\n",
       "      <th>Impression</th>\n",
       "      <td>0.000015</td>\n",
       "      <td>110045.233333</td>\n",
       "      <td>138441.333333</td>\n",
       "      <td>Rejected</td>\n",
       "      <td>Average Bidding</td>\n",
       "    </tr>\n",
       "    <tr>\n",
       "      <th>Click</th>\n",
       "      <td>1.000000</td>\n",
       "      <td>5712.266667</td>\n",
       "      <td>4018.933333</td>\n",
       "      <td>Not Rejected</td>\n",
       "      <td>No Difference</td>\n",
       "    </tr>\n",
       "    <tr>\n",
       "      <th>Purchase</th>\n",
       "      <td>0.482346</td>\n",
       "      <td>1141.966667</td>\n",
       "      <td>1199.966667</td>\n",
       "      <td>Not Rejected</td>\n",
       "      <td>No Difference</td>\n",
       "    </tr>\n",
       "    <tr>\n",
       "      <th>Earning</th>\n",
       "      <td>0.000000</td>\n",
       "      <td>11986.966667</td>\n",
       "      <td>15320.800000</td>\n",
       "      <td>Rejected</td>\n",
       "      <td>Average Bidding</td>\n",
       "    </tr>\n",
       "    <tr>\n",
       "      <th>Earning_Per_Click</th>\n",
       "      <td>1.000000</td>\n",
       "      <td>2.313508</td>\n",
       "      <td>3.947304</td>\n",
       "      <td>Not Rejected</td>\n",
       "      <td>No Difference</td>\n",
       "    </tr>\n",
       "  </tbody>\n",
       "</table>\n",
       "</div>"
      ],
      "text/plain": [
       "                   Ttest_P_Value  Maximum Bidding Mean  Average Bidding Mean  \\\n",
       "Impression              0.000015         110045.233333         138441.333333   \n",
       "Click                   1.000000           5712.266667           4018.933333   \n",
       "Purchase                0.482346           1141.966667           1199.966667   \n",
       "Earning                 0.000000          11986.966667          15320.800000   \n",
       "Earning_Per_Click       1.000000              2.313508              3.947304   \n",
       "\n",
       "                  H0_Hypothesis           Winner  \n",
       "Impression             Rejected  Average Bidding  \n",
       "Click              Not Rejected    No Difference  \n",
       "Purchase           Not Rejected    No Difference  \n",
       "Earning                Rejected  Average Bidding  \n",
       "Earning_Per_Click  Not Rejected    No Difference  "
      ]
     },
     "execution_count": 103,
     "metadata": {},
     "output_type": "execute_result"
    }
   ],
   "source": [
    "\n",
    "# Her bir değişken için iki bidding tipinin ortalamalarını karşılaştırıyoruz.\n",
    "ttest_df[\"Winner\"] = ttest_df.apply (\n",
    "    lambda x: \"Maximum Bidding\" if (x[\"Maximum Bidding Mean\"] >= x[\"Average Bidding Mean\"]) & (\n",
    "                x[\"H0_Hypothesis\"] == \"Rejected\") else\n",
    "    \"Average Bidding\" if (x[\"Maximum Bidding Mean\"] < x[\"Average Bidding Mean\"]) & (\n",
    "                x[\"H0_Hypothesis\"] == \"Rejected\") else\n",
    "    \"No Difference\", axis=1)\n",
    "\n",
    "ttest_df"
   ]
  },
  {
   "cell_type": "code",
   "execution_count": null,
   "id": "e7e5cf5d-e509-46d8-b011-73420cf2cf3b",
   "metadata": {},
   "outputs": [],
   "source": [
    "# sadece Earning kolonunda ve Impression kolonunda hipotez testi reddedildi\n",
    "# yani average bidding mean yapılırsa eski yöntem(max bidding mean) yöntemine göre\n",
    "# kazançın daha fazla olduğu istatistiksel olarak ispatlanmış oldu.\n",
    "# Ek olarak İzlenim kolonunda Average Bidding Mean kullanılırsa diğer yönteme kıyasla artış olduğu görülüyor. \n",
    "# İzlenim sayısının bu üstünlüğü istatistiksel olarak ispatlanmış olup. Kazanılan paraya etki ettiğini söylemek mümkün \n",
    "# Bundan sonra alınacak reaksiyon İzlenim sayılarını arttırmak olmalıdır. İzlenim sayısı arttıkça kazanılan parada artış olacağı görülmektedir."
   ]
  }
 ],
 "metadata": {
  "kernelspec": {
   "display_name": "Python 3 (ipykernel)",
   "language": "python",
   "name": "python3"
  },
  "language_info": {
   "codemirror_mode": {
    "name": "ipython",
    "version": 3
   },
   "file_extension": ".py",
   "mimetype": "text/x-python",
   "name": "python",
   "nbconvert_exporter": "python",
   "pygments_lexer": "ipython3",
   "version": "3.10.9"
  }
 },
 "nbformat": 4,
 "nbformat_minor": 5
}
