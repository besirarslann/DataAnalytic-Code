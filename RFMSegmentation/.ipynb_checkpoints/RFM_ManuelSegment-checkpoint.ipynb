{
 "cells": [
  {
   "cell_type": "markdown",
   "id": "5d58ceb9-a0b8-420d-8da5-703ac677742e",
   "metadata": {},
   "source": [
    "# Data Understanding"
   ]
  },
  {
   "cell_type": "code",
   "execution_count": 2,
   "id": "afc925b0",
   "metadata": {
    "id": "afc925b0"
   },
   "outputs": [],
   "source": [
    "from IPython.core.interactiveshell import InteractiveShell\n",
    "InteractiveShell.ast_node_interactivity = \"all\"\n",
    "import datetime as dt\n",
    "import pandas as pd\n",
    "import matplotlib.pyplot as plt\n",
    "import seaborn as sns\n",
    "pd.set_option('display.max_columns', None)"
   ]
  },
  {
   "cell_type": "code",
   "execution_count": 3,
   "id": "83ea7481",
   "metadata": {
    "id": "83ea7481"
   },
   "outputs": [],
   "source": [
    "def load_data(data= \"online_retail_II.xlsx\", sheet_name= \"Year 2009-2010\"):\n",
    "    dataframe = pd.read_excel(data, sheet_name= sheet_name)\n",
    "    return dataframe\n",
    "df_ = load_data()"
   ]
  },
  {
   "cell_type": "code",
   "execution_count": 4,
   "id": "055c3be1",
   "metadata": {
    "id": "055c3be1",
    "outputId": "cc87d5fd-50f1-408b-e377-fa4ccf7e13eb"
   },
   "outputs": [
    {
     "data": {
      "text/html": [
       "<div>\n",
       "<style scoped>\n",
       "    .dataframe tbody tr th:only-of-type {\n",
       "        vertical-align: middle;\n",
       "    }\n",
       "\n",
       "    .dataframe tbody tr th {\n",
       "        vertical-align: top;\n",
       "    }\n",
       "\n",
       "    .dataframe thead th {\n",
       "        text-align: right;\n",
       "    }\n",
       "</style>\n",
       "<table border=\"1\" class=\"dataframe\">\n",
       "  <thead>\n",
       "    <tr style=\"text-align: right;\">\n",
       "      <th></th>\n",
       "      <th>Invoice</th>\n",
       "      <th>StockCode</th>\n",
       "      <th>Description</th>\n",
       "      <th>Quantity</th>\n",
       "      <th>InvoiceDate</th>\n",
       "      <th>Price</th>\n",
       "      <th>Customer ID</th>\n",
       "      <th>Country</th>\n",
       "    </tr>\n",
       "  </thead>\n",
       "  <tbody>\n",
       "    <tr>\n",
       "      <th>0</th>\n",
       "      <td>489434</td>\n",
       "      <td>85048</td>\n",
       "      <td>15CM CHRISTMAS GLASS BALL 20 LIGHTS</td>\n",
       "      <td>12</td>\n",
       "      <td>2009-12-01 07:45:00</td>\n",
       "      <td>6.95</td>\n",
       "      <td>13085.0</td>\n",
       "      <td>United Kingdom</td>\n",
       "    </tr>\n",
       "    <tr>\n",
       "      <th>1</th>\n",
       "      <td>489434</td>\n",
       "      <td>79323P</td>\n",
       "      <td>PINK CHERRY LIGHTS</td>\n",
       "      <td>12</td>\n",
       "      <td>2009-12-01 07:45:00</td>\n",
       "      <td>6.75</td>\n",
       "      <td>13085.0</td>\n",
       "      <td>United Kingdom</td>\n",
       "    </tr>\n",
       "    <tr>\n",
       "      <th>2</th>\n",
       "      <td>489434</td>\n",
       "      <td>79323W</td>\n",
       "      <td>WHITE CHERRY LIGHTS</td>\n",
       "      <td>12</td>\n",
       "      <td>2009-12-01 07:45:00</td>\n",
       "      <td>6.75</td>\n",
       "      <td>13085.0</td>\n",
       "      <td>United Kingdom</td>\n",
       "    </tr>\n",
       "    <tr>\n",
       "      <th>3</th>\n",
       "      <td>489434</td>\n",
       "      <td>22041</td>\n",
       "      <td>RECORD FRAME 7\" SINGLE SIZE</td>\n",
       "      <td>48</td>\n",
       "      <td>2009-12-01 07:45:00</td>\n",
       "      <td>2.10</td>\n",
       "      <td>13085.0</td>\n",
       "      <td>United Kingdom</td>\n",
       "    </tr>\n",
       "    <tr>\n",
       "      <th>4</th>\n",
       "      <td>489434</td>\n",
       "      <td>21232</td>\n",
       "      <td>STRAWBERRY CERAMIC TRINKET BOX</td>\n",
       "      <td>24</td>\n",
       "      <td>2009-12-01 07:45:00</td>\n",
       "      <td>1.25</td>\n",
       "      <td>13085.0</td>\n",
       "      <td>United Kingdom</td>\n",
       "    </tr>\n",
       "  </tbody>\n",
       "</table>\n",
       "</div>"
      ],
      "text/plain": [
       "  Invoice StockCode                          Description  Quantity  \\\n",
       "0  489434     85048  15CM CHRISTMAS GLASS BALL 20 LIGHTS        12   \n",
       "1  489434    79323P                   PINK CHERRY LIGHTS        12   \n",
       "2  489434    79323W                  WHITE CHERRY LIGHTS        12   \n",
       "3  489434     22041         RECORD FRAME 7\" SINGLE SIZE         48   \n",
       "4  489434     21232       STRAWBERRY CERAMIC TRINKET BOX        24   \n",
       "\n",
       "          InvoiceDate  Price  Customer ID         Country  \n",
       "0 2009-12-01 07:45:00   6.95      13085.0  United Kingdom  \n",
       "1 2009-12-01 07:45:00   6.75      13085.0  United Kingdom  \n",
       "2 2009-12-01 07:45:00   6.75      13085.0  United Kingdom  \n",
       "3 2009-12-01 07:45:00   2.10      13085.0  United Kingdom  \n",
       "4 2009-12-01 07:45:00   1.25      13085.0  United Kingdom  "
      ]
     },
     "execution_count": 4,
     "metadata": {},
     "output_type": "execute_result"
    }
   ],
   "source": [
    "df = df_.copy() # Dataset is large that's why we crate copy() \n",
    "df.head()"
   ]
  },
  {
   "cell_type": "code",
   "execution_count": 5,
   "id": "cd8d21d6",
   "metadata": {
    "id": "cd8d21d6",
    "outputId": "9068eb52-6833-49b7-d69a-46c800b2abef"
   },
   "outputs": [
    {
     "data": {
      "text/plain": [
       "Invoice             0\n",
       "StockCode           0\n",
       "Description      2928\n",
       "Quantity            0\n",
       "InvoiceDate         0\n",
       "Price               0\n",
       "Customer ID    107927\n",
       "Country             0\n",
       "dtype: int64"
      ]
     },
     "execution_count": 5,
     "metadata": {},
     "output_type": "execute_result"
    },
    {
     "data": {
      "text/plain": [
       "4681"
      ]
     },
     "execution_count": 5,
     "metadata": {},
     "output_type": "execute_result"
    },
    {
     "data": {
      "text/plain": [
       "WHITE HANGING HEART T-LIGHT HOLDER    3549\n",
       "REGENCY CAKESTAND 3 TIER              2212\n",
       "STRAWBERRY CERAMIC TRINKET BOX        1843\n",
       "PACK OF 72 RETRO SPOT CAKE CASES      1466\n",
       "ASSORTED COLOUR BIRD ORNAMENT         1457\n",
       "Name: Description, dtype: int64"
      ]
     },
     "execution_count": 5,
     "metadata": {},
     "output_type": "execute_result"
    },
    {
     "data": {
      "text/html": [
       "<div>\n",
       "<style scoped>\n",
       "    .dataframe tbody tr th:only-of-type {\n",
       "        vertical-align: middle;\n",
       "    }\n",
       "\n",
       "    .dataframe tbody tr th {\n",
       "        vertical-align: top;\n",
       "    }\n",
       "\n",
       "    .dataframe thead th {\n",
       "        text-align: right;\n",
       "    }\n",
       "</style>\n",
       "<table border=\"1\" class=\"dataframe\">\n",
       "  <thead>\n",
       "    <tr style=\"text-align: right;\">\n",
       "      <th></th>\n",
       "      <th>Quantity</th>\n",
       "    </tr>\n",
       "    <tr>\n",
       "      <th>Description</th>\n",
       "      <th></th>\n",
       "    </tr>\n",
       "  </thead>\n",
       "  <tbody>\n",
       "    <tr>\n",
       "      <th>WHITE HANGING HEART T-LIGHT HOLDER</th>\n",
       "      <td>57733</td>\n",
       "    </tr>\n",
       "    <tr>\n",
       "      <th>WORLD WAR 2 GLIDERS ASSTD DESIGNS</th>\n",
       "      <td>54698</td>\n",
       "    </tr>\n",
       "    <tr>\n",
       "      <th>BROCADE RING PURSE</th>\n",
       "      <td>47647</td>\n",
       "    </tr>\n",
       "    <tr>\n",
       "      <th>PACK OF 72 RETRO SPOT CAKE CASES</th>\n",
       "      <td>46106</td>\n",
       "    </tr>\n",
       "    <tr>\n",
       "      <th>ASSORTED COLOUR BIRD ORNAMENT</th>\n",
       "      <td>44925</td>\n",
       "    </tr>\n",
       "  </tbody>\n",
       "</table>\n",
       "</div>"
      ],
      "text/plain": [
       "                                    Quantity\n",
       "Description                                 \n",
       "WHITE HANGING HEART T-LIGHT HOLDER     57733\n",
       "WORLD WAR 2 GLIDERS ASSTD DESIGNS      54698\n",
       "BROCADE RING PURSE                     47647\n",
       "PACK OF 72 RETRO SPOT CAKE CASES       46106\n",
       "ASSORTED COLOUR BIRD ORNAMENT          44925"
      ]
     },
     "execution_count": 5,
     "metadata": {},
     "output_type": "execute_result"
    },
    {
     "data": {
      "text/plain": [
       "28816"
      ]
     },
     "execution_count": 5,
     "metadata": {},
     "output_type": "execute_result"
    }
   ],
   "source": [
    "df.isnull().sum() # returns the number of missing values in the dataset.\n",
    "\n",
    "df[\"Description\"].nunique() # number of unqiue values in Description\n",
    "\n",
    "df[\"Description\"].value_counts().head() # how many of which product do you have?\n",
    "\n",
    "df.groupby(\"Description\").agg({\"Quantity\": \"sum\"}).sort_values(\"Quantity\", ascending=False).head() # what is the most ordered product?\n",
    "\n",
    "df[\"Invoice\"].nunique() # How many invoices have been issued in total?"
   ]
  },
  {
   "cell_type": "markdown",
   "id": "6f4acefb-d2af-42c7-83de-b37bb2446c0b",
   "metadata": {},
   "source": [
    "# Data Preparation"
   ]
  },
  {
   "cell_type": "code",
   "execution_count": 6,
   "id": "cdadc9d7",
   "metadata": {
    "id": "cdadc9d7"
   },
   "outputs": [
    {
     "data": {
      "text/html": [
       "<div>\n",
       "<style scoped>\n",
       "    .dataframe tbody tr th:only-of-type {\n",
       "        vertical-align: middle;\n",
       "    }\n",
       "\n",
       "    .dataframe tbody tr th {\n",
       "        vertical-align: top;\n",
       "    }\n",
       "\n",
       "    .dataframe thead th {\n",
       "        text-align: right;\n",
       "    }\n",
       "</style>\n",
       "<table border=\"1\" class=\"dataframe\">\n",
       "  <thead>\n",
       "    <tr style=\"text-align: right;\">\n",
       "      <th></th>\n",
       "      <th>count</th>\n",
       "      <th>mean</th>\n",
       "      <th>std</th>\n",
       "      <th>min</th>\n",
       "      <th>1%</th>\n",
       "      <th>5%</th>\n",
       "      <th>10%</th>\n",
       "      <th>25%</th>\n",
       "      <th>50%</th>\n",
       "      <th>75%</th>\n",
       "      <th>90%</th>\n",
       "      <th>95%</th>\n",
       "      <th>99%</th>\n",
       "      <th>max</th>\n",
       "    </tr>\n",
       "  </thead>\n",
       "  <tbody>\n",
       "    <tr>\n",
       "      <th>Quantity</th>\n",
       "      <td>407695.0</td>\n",
       "      <td>13.586686</td>\n",
       "      <td>96.842229</td>\n",
       "      <td>1.0</td>\n",
       "      <td>1.00</td>\n",
       "      <td>1.00</td>\n",
       "      <td>1.00</td>\n",
       "      <td>2.00</td>\n",
       "      <td>5.00</td>\n",
       "      <td>12.00</td>\n",
       "      <td>24.00</td>\n",
       "      <td>36.0</td>\n",
       "      <td>144.00</td>\n",
       "      <td>19152.0</td>\n",
       "    </tr>\n",
       "    <tr>\n",
       "      <th>Price</th>\n",
       "      <td>407695.0</td>\n",
       "      <td>3.294188</td>\n",
       "      <td>34.756655</td>\n",
       "      <td>0.0</td>\n",
       "      <td>0.29</td>\n",
       "      <td>0.42</td>\n",
       "      <td>0.65</td>\n",
       "      <td>1.25</td>\n",
       "      <td>1.95</td>\n",
       "      <td>3.75</td>\n",
       "      <td>6.75</td>\n",
       "      <td>8.5</td>\n",
       "      <td>14.95</td>\n",
       "      <td>10953.5</td>\n",
       "    </tr>\n",
       "    <tr>\n",
       "      <th>Customer ID</th>\n",
       "      <td>407695.0</td>\n",
       "      <td>15368.504107</td>\n",
       "      <td>1679.795700</td>\n",
       "      <td>12346.0</td>\n",
       "      <td>12435.00</td>\n",
       "      <td>12731.00</td>\n",
       "      <td>13044.00</td>\n",
       "      <td>13997.00</td>\n",
       "      <td>15321.00</td>\n",
       "      <td>16812.00</td>\n",
       "      <td>17706.00</td>\n",
       "      <td>17913.0</td>\n",
       "      <td>18196.00</td>\n",
       "      <td>18287.0</td>\n",
       "    </tr>\n",
       "    <tr>\n",
       "      <th>TotalPrice</th>\n",
       "      <td>407695.0</td>\n",
       "      <td>21.663261</td>\n",
       "      <td>77.147356</td>\n",
       "      <td>0.0</td>\n",
       "      <td>0.65</td>\n",
       "      <td>1.25</td>\n",
       "      <td>2.10</td>\n",
       "      <td>4.95</td>\n",
       "      <td>11.90</td>\n",
       "      <td>19.50</td>\n",
       "      <td>35.70</td>\n",
       "      <td>67.5</td>\n",
       "      <td>201.60</td>\n",
       "      <td>15818.4</td>\n",
       "    </tr>\n",
       "  </tbody>\n",
       "</table>\n",
       "</div>"
      ],
      "text/plain": [
       "                count          mean          std      min        1%        5%  \\\n",
       "Quantity     407695.0     13.586686    96.842229      1.0      1.00      1.00   \n",
       "Price        407695.0      3.294188    34.756655      0.0      0.29      0.42   \n",
       "Customer ID  407695.0  15368.504107  1679.795700  12346.0  12435.00  12731.00   \n",
       "TotalPrice   407695.0     21.663261    77.147356      0.0      0.65      1.25   \n",
       "\n",
       "                  10%       25%       50%       75%       90%      95%  \\\n",
       "Quantity         1.00      2.00      5.00     12.00     24.00     36.0   \n",
       "Price            0.65      1.25      1.95      3.75      6.75      8.5   \n",
       "Customer ID  13044.00  13997.00  15321.00  16812.00  17706.00  17913.0   \n",
       "TotalPrice       2.10      4.95     11.90     19.50     35.70     67.5   \n",
       "\n",
       "                  99%      max  \n",
       "Quantity       144.00  19152.0  \n",
       "Price           14.95  10953.5  \n",
       "Customer ID  18196.00  18287.0  \n",
       "TotalPrice     201.60  15818.4  "
      ]
     },
     "execution_count": 6,
     "metadata": {},
     "output_type": "execute_result"
    },
    {
     "data": {
      "text/plain": [
       "Invoice        0\n",
       "StockCode      0\n",
       "Description    0\n",
       "Quantity       0\n",
       "InvoiceDate    0\n",
       "Price          0\n",
       "Customer ID    0\n",
       "Country        0\n",
       "TotalPrice     0\n",
       "dtype: int64"
      ]
     },
     "execution_count": 6,
     "metadata": {},
     "output_type": "execute_result"
    },
    {
     "data": {
      "text/plain": [
       "(407695, 9)"
      ]
     },
     "execution_count": 6,
     "metadata": {},
     "output_type": "execute_result"
    }
   ],
   "source": [
    "df = df[~df[\"Invoice\"].str.contains(\"C\", na=False)] # We drop Cancel data \n",
    "\n",
    "df[\"TotalPrice\"] = df[\"Quantity\"] * df[\"Price\"] # Create new feature TotalPrice\n",
    "\n",
    "df.dropna(inplace=True) # drop missing values\n",
    "\n",
    "df.describe([0.01, 0.05, 0.10, 0.25, 0.50, 0.75, 0.90, 0.95, 0.99]).T\n",
    "df.isnull().sum()\n",
    "df.shape"
   ]
  },
  {
   "cell_type": "markdown",
   "id": "1ab9c011-b625-4696-acb3-9c2723c92ad2",
   "metadata": {},
   "source": [
    "# Data Visualization"
   ]
  },
  {
   "cell_type": "code",
   "execution_count": 7,
   "id": "121bff98-f633-4428-8e71-10cfad6d1331",
   "metadata": {},
   "outputs": [],
   "source": [
    "num_cols = [col for col in df.columns if df[col].dtypes != \"O\"] # ['Quantity', 'InvoiceDate', 'Price', 'Customer ID', 'TotalPrice']\n",
    "cat_cols = [col for col in df.columns if col not in num_cols] # ['Invoice', 'StockCode', 'Description', 'Country']"
   ]
  },
  {
   "cell_type": "code",
   "execution_count": 8,
   "id": "a5bdca98-406a-4f37-8602-e7c401dd72e5",
   "metadata": {},
   "outputs": [
    {
     "name": "stdout",
     "output_type": "stream",
     "text": [
      "count    407695.000000\n",
      "mean         21.663261\n",
      "std          77.147356\n",
      "min           0.000000\n",
      "5%            1.250000\n",
      "25%           4.950000\n",
      "50%          11.900000\n",
      "75%          19.500000\n",
      "95%          67.500000\n",
      "99%         201.600000\n",
      "max       15818.400000\n",
      "Name: TotalPrice, dtype: float64\n",
      "**************************************************\n",
      "count    407695.000000\n",
      "mean         13.586686\n",
      "std          96.842229\n",
      "min           1.000000\n",
      "5%            1.000000\n",
      "25%           2.000000\n",
      "50%           5.000000\n",
      "75%          12.000000\n",
      "95%          36.000000\n",
      "99%         144.000000\n",
      "max       19152.000000\n",
      "Name: Quantity, dtype: float64\n"
     ]
    }
   ],
   "source": [
    "def num_summary(dataframe, numerical_col):\n",
    "    quantiles = [0.05, 0.25, 0.50, 0.75, 0.95, 0.99]\n",
    "    print(dataframe[numerical_col].describe(quantiles).T)\n",
    "    \n",
    "num_summary(df, \"TotalPrice\")\n",
    "print(\"**************************************************\")\n",
    "num_summary(df, \"Quantity\")"
   ]
  },
  {
   "cell_type": "code",
   "execution_count": 9,
   "id": "d3fc6a2d-cb8d-4ea8-8308-6283432925c4",
   "metadata": {},
   "outputs": [],
   "source": [
    "num_cols.remove(\"InvoiceDate\")\n",
    "num_cols.remove(\"Customer ID\")"
   ]
  },
  {
   "cell_type": "code",
   "execution_count": 10,
   "id": "f85779de-76dd-446d-b97f-690c08ff9eb4",
   "metadata": {},
   "outputs": [
    {
     "data": {
      "text/plain": [
       "['Quantity', 'Price', 'TotalPrice']"
      ]
     },
     "execution_count": 10,
     "metadata": {},
     "output_type": "execute_result"
    }
   ],
   "source": [
    "num_cols"
   ]
  },
  {
   "cell_type": "code",
   "execution_count": 11,
   "id": "3bbbd9a5-a557-49b2-806d-a974ebef704a",
   "metadata": {
    "tags": []
   },
   "outputs": [
    {
     "data": {
      "text/plain": [
       "<AxesSubplot:xlabel='Quantity'>"
      ]
     },
     "execution_count": 11,
     "metadata": {},
     "output_type": "execute_result"
    },
    {
     "data": {
      "image/png": "[encoded data removed]",
      "text/plain": [
       "<Figure size 432x288 with 1 Axes>"
      ]
     },
     "metadata": {
      "needs_background": "light"
     },
     "output_type": "display_data"
    },
    {
     "data": {
      "text/plain": [
       "<AxesSubplot:xlabel='Price'>"
      ]
     },
     "execution_count": 11,
     "metadata": {},
     "output_type": "execute_result"
    },
    {
     "data": {
      "image/png": "[encoded data removed]",
      "text/plain": [
       "<Figure size 432x288 with 1 Axes>"
      ]
     },
     "metadata": {
      "needs_background": "light"
     },
     "output_type": "display_data"
    },
    {
     "data": {
      "text/plain": [
       "<AxesSubplot:xlabel='TotalPrice'>"
      ]
     },
     "execution_count": 11,
     "metadata": {},
     "output_type": "execute_result"
    },
    {
     "data": {
      "image/png": "[encoded data removed]",
      "text/plain": [
       "<Figure size 432x288 with 1 Axes>"
      ]
     },
     "metadata": {
      "needs_background": "light"
     },
     "output_type": "display_data"
    }
   ],
   "source": [
    "for i in num_cols:\n",
    "    sns.boxplot(x = df[i])\n",
    "    plt.show(); # we observated that thre are several outliers values"
   ]
  },
  {
   "cell_type": "code",
   "execution_count": 12,
   "id": "7cbbdf51-1aea-4559-bc14-f2f1f9d9d753",
   "metadata": {},
   "outputs": [
    {
     "data": {
      "text/plain": [
       "['Invoice', 'StockCode', 'Description', 'Country']"
      ]
     },
     "execution_count": 12,
     "metadata": {},
     "output_type": "execute_result"
    }
   ],
   "source": [
    "cat_cols"
   ]
  },
  {
   "cell_type": "code",
   "execution_count": 13,
   "id": "0dc6a3df-e9a1-4e03-8e42-637e1e9605cf",
   "metadata": {},
   "outputs": [
    {
     "data": {
      "image/png": "[encoded data removed]",
      "text/plain": [
       "<Figure size 360x504 with 1 Axes>"
      ]
     },
     "metadata": {
      "needs_background": "light"
     },
     "output_type": "display_data"
    }
   ],
   "source": [
    "plt.figure(figsize=(5, 7))\n",
    "sns.barplot(data=df, x=\"TotalPrice\", y=\"Country\");"
   ]
  },
  {
   "cell_type": "code",
   "execution_count": 14,
   "id": "c7b640f7-45be-472f-9fe8-6b37937d8025",
   "metadata": {},
   "outputs": [
    {
     "data": {
      "text/plain": [
       "count    407695.000000\n",
       "mean         26.758933\n",
       "std           5.402169\n",
       "min           6.000000\n",
       "25%          23.000000\n",
       "50%          27.000000\n",
       "75%          31.000000\n",
       "max          35.000000\n",
       "Name: LenDescription, dtype: float64"
      ]
     },
     "execution_count": 14,
     "metadata": {},
     "output_type": "execute_result"
    }
   ],
   "source": [
    "df[\"LenDescription\"] = df[\"Description\"].apply(lambda x : len(x)) # find word lengths of products\n",
    "df[\"LenDescription\"].describe()"
   ]
  },
  {
   "cell_type": "code",
   "execution_count": 15,
   "id": "3b2fb28b-6db6-4d10-9572-ed64deb697c5",
   "metadata": {},
   "outputs": [],
   "source": [
    "# divide the score lengths into 5 equal parts thanks to qcut\n",
    "df[\"LenScore\"] = pd.qcut(df['LenDescription'], 5, labels=[1, 2, 3, 4, 5]) "
   ]
  },
  {
   "cell_type": "code",
   "execution_count": 16,
   "id": "f3eb66e0-df31-4e27-ad42-ff9fd3b3a3e4",
   "metadata": {},
   "outputs": [
    {
     "data": {
      "text/plain": [
       "1    90912\n",
       "2    90096\n",
       "3    78034\n",
       "4    85313\n",
       "5    63340\n",
       "Name: LenScore, dtype: int64"
      ]
     },
     "execution_count": 16,
     "metadata": {},
     "output_type": "execute_result"
    }
   ],
   "source": [
    "df[\"LenScore\"].value_counts(sort=False)"
   ]
  },
  {
   "cell_type": "code",
   "execution_count": 17,
   "id": "e4e2201d-31e2-4b40-975e-cc71a7184c7f",
   "metadata": {},
   "outputs": [
    {
     "data": {
      "text/plain": [
       "<AxesSubplot:xlabel='LenScore', ylabel='count'>"
      ]
     },
     "execution_count": 17,
     "metadata": {},
     "output_type": "execute_result"
    },
    {
     "data": {
      "image/png": "[encoded data removed]",
      "text/plain": [
       "<Figure size 432x288 with 1 Axes>"
      ]
     },
     "metadata": {
      "needs_background": "light"
     },
     "output_type": "display_data"
    }
   ],
   "source": [
    "sns.countplot(x = df[\"LenScore\"])\n",
    "plt.show(block=True)"
   ]
  },
  {
   "cell_type": "markdown",
   "id": "31b504bd-d990-4c46-bde5-f4a1f0227cb5",
   "metadata": {},
   "source": [
    "# Calculating RFM Metrics \n",
    " * Feature Extraction "
   ]
  },
  {
   "cell_type": "code",
   "execution_count": 18,
   "id": "886c52bc",
   "metadata": {
    "id": "886c52bc"
   },
   "outputs": [
    {
     "data": {
      "text/plain": [
       "Timestamp('2010-12-09 20:01:00')"
      ]
     },
     "execution_count": 18,
     "metadata": {},
     "output_type": "execute_result"
    },
    {
     "data": {
      "text/plain": [
       "datetime.datetime(2010, 12, 11, 0, 0)"
      ]
     },
     "execution_count": 18,
     "metadata": {},
     "output_type": "execute_result"
    }
   ],
   "source": [
    "# Recency\n",
    "\n",
    "df[\"InvoiceDate\"].max() # last InvoiceDate\n",
    "\n",
    "today_date = dt.datetime(2010, 12, 11) # 2 days after last InvoiceDate -> today_date\n",
    "today_date"
   ]
  },
  {
   "cell_type": "code",
   "execution_count": 19,
   "id": "59776f65",
   "metadata": {
    "id": "59776f65",
    "outputId": "66c1413e-5eb6-481f-c027-2d5e15aa0e96"
   },
   "outputs": [],
   "source": [
    "# Recency, Frequency, Monetary\n",
    "\n",
    "df_rfm = df.groupby('Customer ID').agg({'InvoiceDate': lambda date: (today_date - date.max()).days,\n",
    "                                     'Invoice': lambda Invoice: Invoice.nunique(),\n",
    "                                     'TotalPrice': lambda TotalPrice: TotalPrice.sum()})\n",
    "\n"
   ]
  },
  {
   "cell_type": "code",
   "execution_count": 20,
   "id": "508c06bb",
   "metadata": {
    "id": "508c06bb",
    "outputId": "8f23820f-9603-4bc9-88b7-b030c15ac44c"
   },
   "outputs": [
    {
     "data": {
      "text/html": [
       "<div>\n",
       "<style scoped>\n",
       "    .dataframe tbody tr th:only-of-type {\n",
       "        vertical-align: middle;\n",
       "    }\n",
       "\n",
       "    .dataframe tbody tr th {\n",
       "        vertical-align: top;\n",
       "    }\n",
       "\n",
       "    .dataframe thead th {\n",
       "        text-align: right;\n",
       "    }\n",
       "</style>\n",
       "<table border=\"1\" class=\"dataframe\">\n",
       "  <thead>\n",
       "    <tr style=\"text-align: right;\">\n",
       "      <th></th>\n",
       "      <th>Recency</th>\n",
       "      <th>Frequency</th>\n",
       "      <th>Monetary</th>\n",
       "    </tr>\n",
       "    <tr>\n",
       "      <th>Customer ID</th>\n",
       "      <th></th>\n",
       "      <th></th>\n",
       "      <th></th>\n",
       "    </tr>\n",
       "  </thead>\n",
       "  <tbody>\n",
       "    <tr>\n",
       "      <th>12346.0</th>\n",
       "      <td>165</td>\n",
       "      <td>11</td>\n",
       "      <td>372.86</td>\n",
       "    </tr>\n",
       "    <tr>\n",
       "      <th>12347.0</th>\n",
       "      <td>3</td>\n",
       "      <td>2</td>\n",
       "      <td>1323.32</td>\n",
       "    </tr>\n",
       "    <tr>\n",
       "      <th>12348.0</th>\n",
       "      <td>74</td>\n",
       "      <td>1</td>\n",
       "      <td>222.16</td>\n",
       "    </tr>\n",
       "    <tr>\n",
       "      <th>12349.0</th>\n",
       "      <td>43</td>\n",
       "      <td>3</td>\n",
       "      <td>2671.14</td>\n",
       "    </tr>\n",
       "    <tr>\n",
       "      <th>12351.0</th>\n",
       "      <td>11</td>\n",
       "      <td>1</td>\n",
       "      <td>300.93</td>\n",
       "    </tr>\n",
       "  </tbody>\n",
       "</table>\n",
       "</div>"
      ],
      "text/plain": [
       "             Recency  Frequency  Monetary\n",
       "Customer ID                              \n",
       "12346.0          165         11    372.86\n",
       "12347.0            3          2   1323.32\n",
       "12348.0           74          1    222.16\n",
       "12349.0           43          3   2671.14\n",
       "12351.0           11          1    300.93"
      ]
     },
     "execution_count": 20,
     "metadata": {},
     "output_type": "execute_result"
    },
    {
     "data": {
      "text/plain": [
       "(4314, 3)"
      ]
     },
     "execution_count": 20,
     "metadata": {},
     "output_type": "execute_result"
    }
   ],
   "source": [
    "df_rfm.columns = ['Recency', 'Frequency', 'Monetary'] # changed to column names\n",
    "df_rfm.head()\n",
    "df_rfm.shape"
   ]
  },
  {
   "cell_type": "code",
   "execution_count": 21,
   "id": "d5f24e54-27e9-4afb-a6c1-aff6bb111b3e",
   "metadata": {},
   "outputs": [
    {
     "data": {
      "text/html": [
       "<div>\n",
       "<style scoped>\n",
       "    .dataframe tbody tr th:only-of-type {\n",
       "        vertical-align: middle;\n",
       "    }\n",
       "\n",
       "    .dataframe tbody tr th {\n",
       "        vertical-align: top;\n",
       "    }\n",
       "\n",
       "    .dataframe thead th {\n",
       "        text-align: right;\n",
       "    }\n",
       "</style>\n",
       "<table border=\"1\" class=\"dataframe\">\n",
       "  <thead>\n",
       "    <tr style=\"text-align: right;\">\n",
       "      <th></th>\n",
       "      <th>Recency</th>\n",
       "      <th>Frequency</th>\n",
       "      <th>Monetary</th>\n",
       "    </tr>\n",
       "    <tr>\n",
       "      <th>Customer ID</th>\n",
       "      <th></th>\n",
       "      <th></th>\n",
       "      <th></th>\n",
       "    </tr>\n",
       "  </thead>\n",
       "  <tbody>\n",
       "    <tr>\n",
       "      <th>14103.0</th>\n",
       "      <td>301</td>\n",
       "      <td>1</td>\n",
       "      <td>0.0</td>\n",
       "    </tr>\n",
       "    <tr>\n",
       "      <th>14827.0</th>\n",
       "      <td>301</td>\n",
       "      <td>1</td>\n",
       "      <td>0.0</td>\n",
       "    </tr>\n",
       "  </tbody>\n",
       "</table>\n",
       "</div>"
      ],
      "text/plain": [
       "             Recency  Frequency  Monetary\n",
       "Customer ID                              \n",
       "14103.0          301          1       0.0\n",
       "14827.0          301          1       0.0"
      ]
     },
     "execution_count": 21,
     "metadata": {},
     "output_type": "execute_result"
    },
    {
     "data": {
      "text/html": [
       "<div>\n",
       "<style scoped>\n",
       "    .dataframe tbody tr th:only-of-type {\n",
       "        vertical-align: middle;\n",
       "    }\n",
       "\n",
       "    .dataframe tbody tr th {\n",
       "        vertical-align: top;\n",
       "    }\n",
       "\n",
       "    .dataframe thead th {\n",
       "        text-align: right;\n",
       "    }\n",
       "</style>\n",
       "<table border=\"1\" class=\"dataframe\">\n",
       "  <thead>\n",
       "    <tr style=\"text-align: right;\">\n",
       "      <th></th>\n",
       "      <th>Recency</th>\n",
       "      <th>Frequency</th>\n",
       "      <th>Monetary</th>\n",
       "    </tr>\n",
       "    <tr>\n",
       "      <th>Customer ID</th>\n",
       "      <th></th>\n",
       "      <th></th>\n",
       "      <th></th>\n",
       "    </tr>\n",
       "  </thead>\n",
       "  <tbody>\n",
       "  </tbody>\n",
       "</table>\n",
       "</div>"
      ],
      "text/plain": [
       "Empty DataFrame\n",
       "Columns: [Recency, Frequency, Monetary]\n",
       "Index: []"
      ]
     },
     "execution_count": 21,
     "metadata": {},
     "output_type": "execute_result"
    }
   ],
   "source": [
    "df_rfm[df_rfm[\"Monetary\"] == 0 ] # there are 2 zero values in monetary column. \n",
    "df_rfm[df_rfm[\"Frequency\"] < 0 ]"
   ]
  },
  {
   "cell_type": "code",
   "execution_count": 22,
   "id": "c8067212",
   "metadata": {
    "id": "c8067212"
   },
   "outputs": [
    {
     "data": {
      "text/plain": [
       "(4312, 3)"
      ]
     },
     "execution_count": 22,
     "metadata": {},
     "output_type": "execute_result"
    }
   ],
   "source": [
    "df_rfm = df_rfm[df_rfm[\"Monetary\"] > 0] # We drop the zero values\n",
    "df_rfm.shape"
   ]
  },
  {
   "cell_type": "markdown",
   "id": "53e638ee-1fef-4004-aea5-47599002a016",
   "metadata": {},
   "source": [
    "# Calculating RFM Scores"
   ]
  },
  {
   "cell_type": "code",
   "execution_count": 23,
   "id": "c6a3dd75",
   "metadata": {
    "id": "c6a3dd75"
   },
   "outputs": [],
   "source": [
    "# Recency --> The last customer I contacted gets the highest score\n",
    "df_rfm[\"RecencyScore\"] = pd.qcut(df_rfm['Recency'], 5, labels=[5, 4, 3, 2, 1]) \n",
    "\n",
    "# Frequency --> The most frequent visitor gets the highest score Bin edges must be unique so we need to specify rank method\n",
    "df_rfm[\"FrequencyScore\"] = pd.qcut(df_rfm[\"Frequency\"].rank(method=\"first\"), 5, labels=[1, 2, 3, 4, 5])\n",
    "\n",
    "# Monetary --> \n",
    "df_rfm[\"MonetaryScore\"] = pd.qcut(df_rfm[\"Monetary\"], 5, labels=[1, 2, 3, 4, 5])"
   ]
  },
  {
   "cell_type": "code",
   "execution_count": 24,
   "id": "59013bf2-c3c5-4fc1-82cc-0663ed5938c3",
   "metadata": {},
   "outputs": [],
   "source": [
    "# df_rfm[\"Segment\"] = (df_rfm['RecencyScore'] +df_rfm['FrequencyScore']) you get error because of categorical\n",
    "df_rfm[\"Segment\"] = df_rfm[\"RecencyScore\"].astype(str) + df_rfm[\"FrequencyScore\"].astype(str)"
   ]
  },
  {
   "cell_type": "code",
   "execution_count": 25,
   "id": "2c652081",
   "metadata": {
    "id": "2c652081",
    "outputId": "5d6e29c7-1b70-459f-ffad-b05b8be89680"
   },
   "outputs": [
    {
     "data": {
      "text/plain": [
       "55    457\n",
       "11    358\n",
       "12    283\n",
       "23    226\n",
       "44    225\n",
       "45    217\n",
       "33    207\n",
       "54    206\n",
       "21    190\n",
       "34    188\n",
       "22    184\n",
       "24    183\n",
       "31    178\n",
       "43    165\n",
       "32    165\n",
       "42    159\n",
       "13    142\n",
       "53    122\n",
       "35    112\n",
       "41     87\n",
       "52     71\n",
       "25     65\n",
       "14     60\n",
       "51     50\n",
       "15     12\n",
       "Name: Segment, dtype: int64"
      ]
     },
     "execution_count": 25,
     "metadata": {},
     "output_type": "execute_result"
    }
   ],
   "source": [
    "df_rfm[\"Segment\"].value_counts()"
   ]
  },
  {
   "cell_type": "markdown",
   "id": "258fe1cf-9a89-4be4-bec5-d38c128238e3",
   "metadata": {
    "id": "274257e2"
   },
   "source": [
    "# Naming & Analysing RFM Segments"
   ]
  },
  {
   "cell_type": "code",
   "execution_count": 26,
   "id": "062202b7",
   "metadata": {
    "id": "062202b7"
   },
   "outputs": [],
   "source": [
    "# RFM Manuel Naming\n",
    "\n",
    "seg_map = {\n",
    "    r'[1-2][1-2]': 'Hibernating',\n",
    "    r'[1-2][3-4]': 'At_Risk',\n",
    "    r'[1-2]5': 'Cant_Loose',\n",
    "    r'3[1-2]': 'About_to_Sleep',\n",
    "    r'33': 'Need_Attention',\n",
    "    r'[3-4][4-5]': 'Loyal_Customers',\n",
    "    r'41': 'Promising',\n",
    "    r'51': 'New_Customers',\n",
    "    r'[4-5][2-3]': 'Potential_Loyalists',\n",
    "    r'5[4-5]': 'Champions'\n",
    "}\n"
   ]
  },
  {
   "cell_type": "code",
   "execution_count": 27,
   "id": "2ec3ebf9-3d53-4123-8ff7-9e66d326b77e",
   "metadata": {},
   "outputs": [
    {
     "name": "stdout",
     "output_type": "stream",
     "text": [
      "Keys value segmentation map : dict_keys(['[1-2][1-2]', '[1-2][3-4]', '[1-2]5', '3[1-2]', '33', '[3-4][4-5]', '41', '51', '[4-5][2-3]', '5[4-5]'])\n",
      "Values value segmentation map : dict_values(['Hibernating', 'At_Risk', 'Cant_Loose', 'About_to_Sleep', 'Need_Attention', 'Loyal_Customers', 'Promising', 'New_Customers', 'Potential_Loyalists', 'Champions'])\n"
     ]
    }
   ],
   "source": [
    "print(\"Keys value segmentation map :\",seg_map.keys())\n",
    "print(\"Values value segmentation map :\",seg_map.values())"
   ]
  },
  {
   "cell_type": "code",
   "execution_count": 28,
   "id": "8f86f28c",
   "metadata": {
    "id": "8f86f28c"
   },
   "outputs": [],
   "source": [
    "df_rfm['Segment_Label'] = df_rfm['Segment'].replace(seg_map, regex=True)"
   ]
  },
  {
   "cell_type": "code",
   "execution_count": 29,
   "id": "78ee635d-59db-4527-99ac-af40b67174a5",
   "metadata": {},
   "outputs": [
    {
     "data": {
      "text/plain": [
       "Hibernating            1015\n",
       "Loyal_Customers         742\n",
       "Champions               663\n",
       "At_Risk                 611\n",
       "Potential_Loyalists     517\n",
       "About_to_Sleep          343\n",
       "Need_Attention          207\n",
       "Promising                87\n",
       "Cant_Loose               77\n",
       "New_Customers            50\n",
       "Name: Segment_Label, dtype: int64"
      ]
     },
     "execution_count": 29,
     "metadata": {},
     "output_type": "execute_result"
    }
   ],
   "source": [
    "df_rfm[\"Segment_Label\"].value_counts()"
   ]
  },
  {
   "cell_type": "code",
   "execution_count": 30,
   "id": "69bf4907-b765-4bce-81ec-3d1c5e861971",
   "metadata": {},
   "outputs": [
    {
     "data": {
      "image/png": "[encoded data removed]",
      "text/plain": [
       "<Figure size 432x288 with 1 Axes>"
      ]
     },
     "metadata": {
      "needs_background": "light"
     },
     "output_type": "display_data"
    }
   ],
   "source": [
    "sns.countplot(y= df_rfm[\"Segment_Label\"])\n",
    "plt.show();"
   ]
  },
  {
   "cell_type": "code",
   "execution_count": 31,
   "id": "e4c0bcaa",
   "metadata": {
    "id": "e4c0bcaa",
    "outputId": "b0412041-9a97-4d05-da6a-84cc7a402748"
   },
   "outputs": [
    {
     "data": {
      "text/html": [
       "<div>\n",
       "<style scoped>\n",
       "    .dataframe tbody tr th:only-of-type {\n",
       "        vertical-align: middle;\n",
       "    }\n",
       "\n",
       "    .dataframe tbody tr th {\n",
       "        vertical-align: top;\n",
       "    }\n",
       "\n",
       "    .dataframe thead th {\n",
       "        text-align: right;\n",
       "    }\n",
       "</style>\n",
       "<table border=\"1\" class=\"dataframe\">\n",
       "  <thead>\n",
       "    <tr style=\"text-align: right;\">\n",
       "      <th></th>\n",
       "      <th>Segment_Label</th>\n",
       "      <th>Recency</th>\n",
       "      <th>Frequency</th>\n",
       "      <th>Monetary</th>\n",
       "    </tr>\n",
       "  </thead>\n",
       "  <tbody>\n",
       "    <tr>\n",
       "      <th>0</th>\n",
       "      <td>About_to_Sleep</td>\n",
       "      <td>53.0</td>\n",
       "      <td>1.0</td>\n",
       "      <td>317.76</td>\n",
       "    </tr>\n",
       "    <tr>\n",
       "      <th>1</th>\n",
       "      <td>At_Risk</td>\n",
       "      <td>131.0</td>\n",
       "      <td>3.0</td>\n",
       "      <td>760.19</td>\n",
       "    </tr>\n",
       "    <tr>\n",
       "      <th>2</th>\n",
       "      <td>Cant_Loose</td>\n",
       "      <td>109.0</td>\n",
       "      <td>7.0</td>\n",
       "      <td>2322.59</td>\n",
       "    </tr>\n",
       "    <tr>\n",
       "      <th>3</th>\n",
       "      <td>Champions</td>\n",
       "      <td>7.0</td>\n",
       "      <td>8.0</td>\n",
       "      <td>2508.32</td>\n",
       "    </tr>\n",
       "    <tr>\n",
       "      <th>4</th>\n",
       "      <td>Hibernating</td>\n",
       "      <td>213.0</td>\n",
       "      <td>1.0</td>\n",
       "      <td>252.48</td>\n",
       "    </tr>\n",
       "  </tbody>\n",
       "</table>\n",
       "</div>"
      ],
      "text/plain": [
       "    Segment_Label  Recency  Frequency  Monetary\n",
       "0  About_to_Sleep     53.0        1.0    317.76\n",
       "1         At_Risk    131.0        3.0    760.19\n",
       "2      Cant_Loose    109.0        7.0   2322.59\n",
       "3       Champions      7.0        8.0   2508.32\n",
       "4     Hibernating    213.0        1.0    252.48"
      ]
     },
     "execution_count": 31,
     "metadata": {},
     "output_type": "execute_result"
    }
   ],
   "source": [
    "df_segment = df_rfm.groupby(\"Segment_Label\").agg({\"Recency\":\"median\",\"Frequency\":\"median\",\"Monetary\":\"median\"}).reset_index()\n",
    "df_segment.head()"
   ]
  },
  {
   "cell_type": "code",
   "execution_count": 32,
   "id": "d8ec88eb",
   "metadata": {
    "id": "d8ec88eb"
   },
   "outputs": [
    {
     "data": {
      "text/plain": [
       "<AxesSubplot:xlabel='count', ylabel='Segment_Label'>"
      ]
     },
     "execution_count": 32,
     "metadata": {},
     "output_type": "execute_result"
    },
    {
     "data": {
      "image/png": "[encoded data removed]",
      "text/plain": [
       "<Figure size 432x288 with 1 Axes>"
      ]
     },
     "metadata": {
      "needs_background": "light"
     },
     "output_type": "display_data"
    }
   ],
   "source": [
    "sns.countplot(y = df_segment[\"Segment_Label\"])"
   ]
  },
  {
   "cell_type": "code",
   "execution_count": 35,
   "id": "53767d11-16c9-43ce-bc75-3224122d58d0",
   "metadata": {},
   "outputs": [],
   "source": [
    "df_segment.to_excel(\"RFM_SegmentManuel.xlsx\")"
   ]
  },
  {
   "cell_type": "code",
   "execution_count": null,
   "id": "f8bb2fac-411c-4166-adcd-2dae189c996e",
   "metadata": {},
   "outputs": [],
   "source": []
  },
  {
   "cell_type": "code",
   "execution_count": null,
   "id": "b9c6fd23-d9c4-4531-899c-53da43f7dbc2",
   "metadata": {},
   "outputs": [],
   "source": []
  },
  {
   "cell_type": "code",
   "execution_count": null,
   "id": "09811c84-1df2-43c3-8dcb-3c0a3154fbfa",
   "metadata": {},
   "outputs": [],
   "source": []
  },
  {
   "cell_type": "code",
   "execution_count": null,
   "id": "63612abb-b78a-41b6-98b2-a44af270c49d",
   "metadata": {},
   "outputs": [],
   "source": []
  },
  {
   "cell_type": "code",
   "execution_count": null,
   "id": "2d30e059-0d22-4dbd-a35d-03c9b3a23b71",
   "metadata": {},
   "outputs": [],
   "source": []
  },
  {
   "cell_type": "code",
   "execution_count": null,
   "id": "9347e2a0-4d70-4c7e-bba8-d70dca0ed03a",
   "metadata": {},
   "outputs": [],
   "source": []
  }
 ],
 "metadata": {
  "colab": {
   "provenance": []
  },
  "kernelspec": {
   "display_name": "Python 3 (ipykernel)",
   "language": "python",
   "name": "python3"
  },
  "language_info": {
   "codemirror_mode": {
    "name": "ipython",
    "version": 3
   },
   "file_extension": ".py",
   "mimetype": "text/x-python",
   "name": "python",
   "nbconvert_exporter": "python",
   "pygments_lexer": "ipython3",
   "version": "3.9.12"
  }
 },
 "nbformat": 4,
 "nbformat_minor": 5
}
