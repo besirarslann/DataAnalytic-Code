{
 "cells": [
  {
   "cell_type": "markdown",
   "id": "077d2a52-3f24-4c6c-84a1-e8e0e9e10b4a",
   "metadata": {},
   "source": [
    "# Task1\n",
    "* Churn datasini kullanin. 6 Adet Grafik seçin ve datayi kullanarak grafikleri pythonda\n",
    "  (Istenen Kolonlar Secilebilir)\n",
    "* Pivot / groupby ile cizilen grafiklerin tablo versiyonu dökün\n",
    "* Grafik ve pivotlarin benzerini excelde çizip python ile kiyaslayin\n"
   ]
  },
  {
   "cell_type": "code",
   "execution_count": 8,
   "id": "5b3e90cc-fb44-422c-aa92-213c232974a1",
   "metadata": {},
   "outputs": [],
   "source": [
    "import pandas as pd\n",
    "import seaborn as sns\n",
    "import os\n",
    "sns.set_theme(style=\"dark\")\n",
    "sns.set(rc={'figure.figsize':(5,4)})\n",
    "import matplotlib.pyplot as plt\n",
    "pd.set_option('display.max_columns', 500)\n",
    "pd.set_option('display.width', 1000)\n",
    "from IPython.core.interactiveshell import InteractiveShell\n",
    "InteractiveShell.ast_node_interactivity = \"all\""
   ]
  },
  {
   "cell_type": "code",
   "execution_count": 14,
   "id": "a2e43d12-b452-4966-898c-b5e5b765802f",
   "metadata": {},
   "outputs": [
    {
     "data": {
      "text/plain": [
       "'C:\\\\Users\\\\besir\\\\Masaüstü\\\\DataAnalytic-CodePractice\\\\EDA'"
      ]
     },
     "execution_count": 14,
     "metadata": {},
     "output_type": "execute_result"
    }
   ],
   "source": [
    "os.getcwd() "
   ]
  },
  {
   "cell_type": "code",
   "execution_count": 22,
   "id": "a4fd3df8-5738-424a-b310-e8d0478bfffd",
   "metadata": {},
   "outputs": [
    {
     "data": {
      "text/html": [
       "<div>\n",
       "<style scoped>\n",
       "    .dataframe tbody tr th:only-of-type {\n",
       "        vertical-align: middle;\n",
       "    }\n",
       "\n",
       "    .dataframe tbody tr th {\n",
       "        vertical-align: top;\n",
       "    }\n",
       "\n",
       "    .dataframe thead th {\n",
       "        text-align: right;\n",
       "    }\n",
       "</style>\n",
       "<table border=\"1\" class=\"dataframe\">\n",
       "  <thead>\n",
       "    <tr style=\"text-align: right;\">\n",
       "      <th></th>\n",
       "      <th>customerID</th>\n",
       "      <th>gender</th>\n",
       "      <th>SeniorCitizen</th>\n",
       "      <th>Partner</th>\n",
       "      <th>Dependents</th>\n",
       "      <th>tenure</th>\n",
       "      <th>PhoneService</th>\n",
       "      <th>MultipleLines</th>\n",
       "      <th>InternetService</th>\n",
       "      <th>OnlineSecurity</th>\n",
       "      <th>OnlineBackup</th>\n",
       "      <th>DeviceProtection</th>\n",
       "      <th>TechSupport</th>\n",
       "      <th>StreamingTV</th>\n",
       "      <th>StreamingMovies</th>\n",
       "      <th>Contract</th>\n",
       "      <th>PaperlessBilling</th>\n",
       "      <th>PaymentMethod</th>\n",
       "      <th>MonthlyCharges</th>\n",
       "      <th>TotalCharges</th>\n",
       "      <th>Churn</th>\n",
       "    </tr>\n",
       "  </thead>\n",
       "  <tbody>\n",
       "    <tr>\n",
       "      <th>0</th>\n",
       "      <td>7590-VHVEG</td>\n",
       "      <td>Female</td>\n",
       "      <td>0</td>\n",
       "      <td>Yes</td>\n",
       "      <td>No</td>\n",
       "      <td>1</td>\n",
       "      <td>No</td>\n",
       "      <td>No phone service</td>\n",
       "      <td>DSL</td>\n",
       "      <td>No</td>\n",
       "      <td>Yes</td>\n",
       "      <td>No</td>\n",
       "      <td>No</td>\n",
       "      <td>No</td>\n",
       "      <td>No</td>\n",
       "      <td>Month-to-month</td>\n",
       "      <td>Yes</td>\n",
       "      <td>Electronic check</td>\n",
       "      <td>29.85</td>\n",
       "      <td>29.85</td>\n",
       "      <td>No</td>\n",
       "    </tr>\n",
       "    <tr>\n",
       "      <th>1</th>\n",
       "      <td>5575-GNVDE</td>\n",
       "      <td>Male</td>\n",
       "      <td>0</td>\n",
       "      <td>No</td>\n",
       "      <td>No</td>\n",
       "      <td>34</td>\n",
       "      <td>Yes</td>\n",
       "      <td>No</td>\n",
       "      <td>DSL</td>\n",
       "      <td>Yes</td>\n",
       "      <td>No</td>\n",
       "      <td>Yes</td>\n",
       "      <td>No</td>\n",
       "      <td>No</td>\n",
       "      <td>No</td>\n",
       "      <td>One year</td>\n",
       "      <td>No</td>\n",
       "      <td>Mailed check</td>\n",
       "      <td>56.95</td>\n",
       "      <td>1889.5</td>\n",
       "      <td>No</td>\n",
       "    </tr>\n",
       "    <tr>\n",
       "      <th>2</th>\n",
       "      <td>3668-QPYBK</td>\n",
       "      <td>Male</td>\n",
       "      <td>0</td>\n",
       "      <td>No</td>\n",
       "      <td>No</td>\n",
       "      <td>2</td>\n",
       "      <td>Yes</td>\n",
       "      <td>No</td>\n",
       "      <td>DSL</td>\n",
       "      <td>Yes</td>\n",
       "      <td>Yes</td>\n",
       "      <td>No</td>\n",
       "      <td>No</td>\n",
       "      <td>No</td>\n",
       "      <td>No</td>\n",
       "      <td>Month-to-month</td>\n",
       "      <td>Yes</td>\n",
       "      <td>Mailed check</td>\n",
       "      <td>53.85</td>\n",
       "      <td>108.15</td>\n",
       "      <td>Yes</td>\n",
       "    </tr>\n",
       "    <tr>\n",
       "      <th>3</th>\n",
       "      <td>7795-CFOCW</td>\n",
       "      <td>Male</td>\n",
       "      <td>0</td>\n",
       "      <td>No</td>\n",
       "      <td>No</td>\n",
       "      <td>45</td>\n",
       "      <td>No</td>\n",
       "      <td>No phone service</td>\n",
       "      <td>DSL</td>\n",
       "      <td>Yes</td>\n",
       "      <td>No</td>\n",
       "      <td>Yes</td>\n",
       "      <td>Yes</td>\n",
       "      <td>No</td>\n",
       "      <td>No</td>\n",
       "      <td>One year</td>\n",
       "      <td>No</td>\n",
       "      <td>Bank transfer (automatic)</td>\n",
       "      <td>42.30</td>\n",
       "      <td>1840.75</td>\n",
       "      <td>No</td>\n",
       "    </tr>\n",
       "    <tr>\n",
       "      <th>4</th>\n",
       "      <td>9237-HQITU</td>\n",
       "      <td>Female</td>\n",
       "      <td>0</td>\n",
       "      <td>No</td>\n",
       "      <td>No</td>\n",
       "      <td>2</td>\n",
       "      <td>Yes</td>\n",
       "      <td>No</td>\n",
       "      <td>Fiber optic</td>\n",
       "      <td>No</td>\n",
       "      <td>No</td>\n",
       "      <td>No</td>\n",
       "      <td>No</td>\n",
       "      <td>No</td>\n",
       "      <td>No</td>\n",
       "      <td>Month-to-month</td>\n",
       "      <td>Yes</td>\n",
       "      <td>Electronic check</td>\n",
       "      <td>70.70</td>\n",
       "      <td>151.65</td>\n",
       "      <td>Yes</td>\n",
       "    </tr>\n",
       "  </tbody>\n",
       "</table>\n",
       "</div>"
      ],
      "text/plain": [
       "   customerID  gender  SeniorCitizen Partner Dependents  tenure PhoneService     MultipleLines InternetService OnlineSecurity OnlineBackup DeviceProtection TechSupport StreamingTV StreamingMovies        Contract PaperlessBilling              PaymentMethod  MonthlyCharges TotalCharges Churn\n",
       "0  7590-VHVEG  Female              0     Yes         No       1           No  No phone service             DSL             No          Yes               No          No          No              No  Month-to-month              Yes           Electronic check           29.85        29.85    No\n",
       "1  5575-GNVDE    Male              0      No         No      34          Yes                No             DSL            Yes           No              Yes          No          No              No        One year               No               Mailed check           56.95       1889.5    No\n",
       "2  3668-QPYBK    Male              0      No         No       2          Yes                No             DSL            Yes          Yes               No          No          No              No  Month-to-month              Yes               Mailed check           53.85       108.15   Yes\n",
       "3  7795-CFOCW    Male              0      No         No      45           No  No phone service             DSL            Yes           No              Yes         Yes          No              No        One year               No  Bank transfer (automatic)           42.30      1840.75    No\n",
       "4  9237-HQITU  Female              0      No         No       2          Yes                No     Fiber optic             No           No               No          No          No              No  Month-to-month              Yes           Electronic check           70.70       151.65   Yes"
      ]
     },
     "execution_count": 22,
     "metadata": {},
     "output_type": "execute_result"
    }
   ],
   "source": [
    "def load_data(data = r\"data/Telco_Graph.csv\", sep = \";\"):\n",
    "    dataframe = pd.read_csv(data, sep=sep)\n",
    "    return dataframe\n",
    "df = load_data()\n",
    "df.head()"
   ]
  },
  {
   "cell_type": "code",
   "execution_count": null,
   "id": "0d51076b-e59a-468f-923d-fc4cd9aba347",
   "metadata": {
    "tags": []
   },
   "outputs": [],
   "source": [
    "# Data Understanding\n",
    "def check_df(dataframe):\n",
    "    print(\"##################### Data Shape #####################\")\n",
    "    print(dataframe.shape)\n",
    "    print(\" \")\n",
    "    print(\"##################### Data Info #####################\")\n",
    "    print(dataframe.info())\n",
    "    print(\" \")\n",
    "    print(\"##################### Data Missing Values #####################\")\n",
    "    print(dataframe.isnull().sum())\n",
    "    print(\" \")\n",
    "    print(\"##################### Quantiles #####################\")\n",
    "    print(dataframe.describe([0, 0.05, 0.50, 0.95, 0.99, 1]).T)\n",
    "check_df(df)"
   ]
  },
  {
   "cell_type": "code",
   "execution_count": null,
   "id": "acd908da-1e1e-45c2-b846-bb22669279ac",
   "metadata": {},
   "outputs": [],
   "source": [
    "# Total Charge dtype convert to int64\n",
    "df[\"TotalCharges\"] = df[\"TotalCharges\"].str.replace(\",\", \"\", regex=True).replace(\" \", \"\", regex=True) # -> Unable to parse string \" \" at position 488\n",
    "df[\"TotalCharges\"][488]\n",
    "df[\"TotalCharges\"]= pd.to_numeric(df[\"TotalCharges\"])"
   ]
  },
  {
   "cell_type": "code",
   "execution_count": null,
   "id": "d55a9622-a3dc-4743-84f2-a80f2767dcfb",
   "metadata": {},
   "outputs": [],
   "source": [
    "cat_cols = [col for col in df.columns if str(df[col].dtypes) in [\"category\", \"bool\", \"object\"]]\n",
    "cat_cols = [col for col in cat_cols if col not in \"customerID\"]\n",
    "num_cols = [col for col in df.columns if col not in cat_cols]"
   ]
  },
  {
   "cell_type": "code",
   "execution_count": null,
   "id": "7308c2db-4373-415f-b9af-db61a747aa33",
   "metadata": {},
   "outputs": [],
   "source": [
    "print(\"Categoric columns list :\", cat_cols)\n",
    "print(\"Numeric columns list :\", num_cols)"
   ]
  },
  {
   "cell_type": "markdown",
   "id": "746b2cde-2a76-4970-9266-b9f24a4d1bdc",
   "metadata": {},
   "source": [
    "# Data Visualization\n",
    " * Kategorik değişken: sütun grafik. countplot bar\n",
    " * Sayısal değişken: hist, boxplot"
   ]
  },
  {
   "cell_type": "code",
   "execution_count": null,
   "id": "f7a2f065-2071-440a-8326-033f0ecac78e",
   "metadata": {},
   "outputs": [],
   "source": [
    "def cat_summary(dataframe, col_name, plot=True):\n",
    "    print(pd.DataFrame(\n",
    "        {col_name: dataframe[col_name].value_counts(),\n",
    "         \"Ratio\": 100 * dataframe[col_name].value_counts() / len(dataframe)}))\n",
    "    print(\"##########################################\")\n",
    "    \n",
    "    if plot:\n",
    "        sns.countplot(x = dataframe[col_name], data=dataframe)\n",
    "        plt.show(block=True)"
   ]
  },
  {
   "cell_type": "code",
   "execution_count": null,
   "id": "cf4ec26c-c19e-4a20-bdb5-d5bfb34a9433",
   "metadata": {
    "tags": []
   },
   "outputs": [],
   "source": [
    "for col in cat_cols:\n",
    "    if df[col].dtypes == \"bool\": # there is no bool dtype in dataset\n",
    "        pass\n",
    "    else:\n",
    "        cat_summary(df, col)"
   ]
  },
  {
   "cell_type": "markdown",
   "id": "12bba019-6d92-4f1c-b5de-d75ce990f3a4",
   "metadata": {},
   "source": [
    "# Pie Graph"
   ]
  },
  {
   "cell_type": "code",
   "execution_count": null,
   "id": "06014d55-b939-42d1-9b0a-4e3561f2d5a3",
   "metadata": {},
   "outputs": [],
   "source": [
    "labels=df.Churn.value_counts().index\n",
    "sizes=df.Churn.value_counts().values\n",
    "explode=[0,0.5]\n",
    "\n",
    "plt.pie(sizes,explode,labels,autopct=\"%1.1f%%\")\n",
    "plt.title(\"Churn Distrubition\\n\"+ \"using Value counts\", bbox={'facecolor':'0.8', 'pad':5})\n",
    "plt.show();"
   ]
  },
  {
   "cell_type": "code",
   "execution_count": null,
   "id": "64d8ade9-5e13-40b0-8f14-fdcbda21cad1",
   "metadata": {},
   "outputs": [],
   "source": [
    "labels=df.SeniorCitizen.value_counts().index\n",
    "sizes=df.SeniorCitizen.value_counts().values\n",
    "explode=[0,0.3]\n",
    "\n",
    "plt.pie(sizes,explode,labels,autopct=\"%1.1f%%\")\n",
    "plt.title(\"SeniorCitizen Distrubition\\n\"+ \"using Pie Graph\", bbox={'facecolor':'0.8', 'pad':5})\n",
    "plt.show();"
   ]
  },
  {
   "cell_type": "markdown",
   "id": "8c29e258-6d9d-496b-840d-fae1988c1a63",
   "metadata": {},
   "source": [
    "# Line Plot, Bar Plot, Histogram, Box plot\n",
    " * Sayısal değikenler en sık kullanılan plot çeşitleri"
   ]
  },
  {
   "cell_type": "code",
   "execution_count": null,
   "id": "43d6c273-ef74-4597-9c64-a20571d52c1b",
   "metadata": {},
   "outputs": [],
   "source": [
    "df.head()"
   ]
  },
  {
   "cell_type": "code",
   "execution_count": null,
   "id": "4d8b9d8e-472e-43d7-b55a-5816ba624018",
   "metadata": {},
   "outputs": [],
   "source": [
    "def num_summary(dataframe, numerical_col):\n",
    "    quantiles = [0.05, 0.25, 0.50, 0.75, 0.95, 0.99]\n",
    "    print(dataframe[numerical_col].describe(quantiles).T)"
   ]
  },
  {
   "cell_type": "code",
   "execution_count": null,
   "id": "1738ba1b-7dcb-460a-b6ce-3b59e4d0e829",
   "metadata": {},
   "outputs": [],
   "source": [
    "num_summary(df, \"TotalCharges\")"
   ]
  },
  {
   "cell_type": "code",
   "execution_count": null,
   "id": "86163791-d83b-4602-b4e4-e87000d419c9",
   "metadata": {},
   "outputs": [],
   "source": [
    "sns.histplot(x= df[\"TotalCharges\"]);"
   ]
  },
  {
   "cell_type": "code",
   "execution_count": null,
   "id": "96612989-4d35-4afe-a984-31c9f3b2a74e",
   "metadata": {},
   "outputs": [],
   "source": [
    "sns.histplot(x= df[\"MonthlyCharges\"], hue= df[\"Churn\"]);"
   ]
  },
  {
   "cell_type": "code",
   "execution_count": null,
   "id": "8cfe7c08-e9f6-4251-b455-0a5679d4c06f",
   "metadata": {},
   "outputs": [],
   "source": [
    "df.groupby(\"tenure\").agg({\"TotalCharges\":\"mean\"})\n",
    "\n",
    "plt.figure(figsize=(7, 3))\n",
    "sns.lineplot(x= \"tenure\", y= \"TotalCharges\", data= df)\n",
    "plt.title(\"Tenure Line Plot\")\n",
    "plt.show();"
   ]
  },
  {
   "cell_type": "code",
   "execution_count": null,
   "id": "737faf01-4834-4391-8185-a686d0d15e00",
   "metadata": {},
   "outputs": [],
   "source": [
    "sns.barplot(x= \"Churn\", y= \"TotalCharges\", data=df)\n",
    "plt.title(\"Churn Bar Plot\")\n",
    "plt.show();"
   ]
  },
  {
   "cell_type": "code",
   "execution_count": null,
   "id": "6819a981-eaca-4867-85f6-103269bd2e44",
   "metadata": {},
   "outputs": [],
   "source": [
    "sns.barplot(x=df[\"MonthlyCharges\"], y=df[\"Contract\"], hue=df[\"Churn\"])\n",
    "plt.show();\n",
    "df.groupby([\"Contract\", \"Churn\"])[[\"MonthlyCharges\"]].mean()"
   ]
  },
  {
   "cell_type": "code",
   "execution_count": null,
   "id": "089a74ec-27e0-45e0-80e5-61c63f498ee0",
   "metadata": {},
   "outputs": [],
   "source": [
    "num_cols"
   ]
  },
  {
   "cell_type": "code",
   "execution_count": null,
   "id": "ce43a8a4-6864-435d-83c7-8fad2e8cf43d",
   "metadata": {
    "tags": []
   },
   "outputs": [],
   "source": [
    "for i in num_cols:\n",
    "    sns.boxplot(x = df[i])\n",
    "    plt.show();"
   ]
  },
  {
   "cell_type": "code",
   "execution_count": null,
   "id": "482685fd-7502-4371-aca1-b3eb382a0b81",
   "metadata": {
    "tags": []
   },
   "outputs": [],
   "source": [
    "plt.figure(figsize=(14, 5))\n",
    "sns.boxplot(data=df, x=\"TotalCharges\", y=\"Contract\");"
   ]
  },
  {
   "cell_type": "markdown",
   "id": "23d3d94a-66c2-4b0e-9007-343ebfbcd89f",
   "metadata": {},
   "source": [
    "* Churn olan/olmayan muserileri ayni grafikte kiyaslayarak churn nedenlerini gorsel\n",
    "olarak gosteriniz. (5-6 Degisken ile)\n",
    "* \"Car Crash\" datasini kullanarak korelasyon heatmap cizin."
   ]
  },
  {
   "cell_type": "code",
   "execution_count": null,
   "id": "77b1f9db-f1f7-4e64-9d99-71eeda849c67",
   "metadata": {},
   "outputs": [],
   "source": [
    "df_crash = sns.load_dataset(\"car_crashes\")"
   ]
  },
  {
   "cell_type": "code",
   "execution_count": null,
   "id": "22754a95-1116-4ca6-8b9b-7f308d15c8aa",
   "metadata": {},
   "outputs": [],
   "source": [
    "df_crash.info()"
   ]
  },
  {
   "cell_type": "code",
   "execution_count": null,
   "id": "c8af0131-3aed-431f-a28e-738ed797d08d",
   "metadata": {},
   "outputs": [],
   "source": []
  }
 ],
 "metadata": {
  "kernelspec": {
   "display_name": "Python 3 (ipykernel)",
   "language": "python",
   "name": "python3"
  },
  "language_info": {
   "codemirror_mode": {
    "name": "ipython",
    "version": 3
   },
   "file_extension": ".py",
   "mimetype": "text/x-python",
   "name": "python",
   "nbconvert_exporter": "python",
   "pygments_lexer": "ipython3",
   "version": "3.9.12"
  }
 },
 "nbformat": 4,
 "nbformat_minor": 5
}
